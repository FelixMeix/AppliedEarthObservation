{
 "cells": [
  {
   "cell_type": "markdown",
   "id": "16d5ddaa-2b18-4e34-92bc-56874cb56d87",
   "metadata": {},
   "source": [
    "## Reprojecting polygons\n",
    "\n",
    "The polygons exported from QGIS might not be in the same spatial/coordinate reference system (CRS) as the data, which is located in the so called Equi7 grid projection. Therefore, they need to be reprojected. This can be done as shown below. \n",
    "\n",
    "*Step 0*: `import osr` <br>\n",
    "*Step 1*: generate an `osr.Spatialreference` object for the Equi7 grid CRS. Here, we accomplish this by extracting the CRS stored (in WKT) in our datacube `grid` object."
   ]
  },
  {
   "cell_type": "code",
   "execution_count": null,
   "id": "932ce4bd-b009-4f84-b420-4c2729aa937d",
   "metadata": {},
   "outputs": [],
   "source": [
    "e7_wkt = dc.grid.core.projection.wkt\n",
    "e7_sref = SpatialRef(e7_wkt)\n",
    "target_sref = e7_sref.osr_sref"
   ]
  },
  {
   "cell_type": "markdown",
   "id": "5a91f893-4115-42e3-be0d-6979fc591a3b",
   "metadata": {},
   "source": [
    "*Step 2*: create the respective `osr.Spatialreference` object for WGS84 (EPSG:4326)."
   ]
  },
  {
   "cell_type": "code",
   "execution_count": null,
   "id": "6a0380da-3fb9-4af8-b680-8931775a946e",
   "metadata": {},
   "outputs": [],
   "source": [
    "source_sref = osr.SpatialReference()\n",
    "source_sref.ImportFromEPSG(4326)"
   ]
  },
  {
   "cell_type": "markdown",
   "id": "7d3726df-d784-46e3-9177-852258db293c",
   "metadata": {},
   "source": [
    "*Step 3*: create the transformation object from `source_sref` to `target_sref`."
   ]
  },
  {
   "cell_type": "code",
   "execution_count": null,
   "id": "6e676de4-137b-4ed1-906b-506e7fea57eb",
   "metadata": {},
   "outputs": [],
   "source": [
    "wgs_to_equi7_transformation = osr.CoordinateTransformation(source_sref, target_sref)"
   ]
  },
  {
   "cell_type": "markdown",
   "id": "1f42b1bb-8044-4488-8c35-ffb0de319cef",
   "metadata": {},
   "source": [
    "*Step 4*: transform your data. Note that the transformation is done in place."
   ]
  },
  {
   "cell_type": "code",
   "execution_count": null,
   "id": "61440983-7894-4598-85ed-b028ebb7c08c",
   "metadata": {},
   "outputs": [],
   "source": [
    "for _, poly in forest_polygon_dict.items():\n",
    "    poly.Transform(wgs_to_equi7_transformation)"
   ]
  }
 ],
 "metadata": {
  "kernelspec": {
   "display_name": "Python 3 (ipykernel)",
   "language": "python",
   "name": "python3"
  },
  "language_info": {
   "codemirror_mode": {
    "name": "ipython",
    "version": 3
   },
   "file_extension": ".py",
   "mimetype": "text/x-python",
   "name": "python",
   "nbconvert_exporter": "python",
   "pygments_lexer": "ipython3",
   "version": "3.10.6"
  }
 },
 "nbformat": 4,
 "nbformat_minor": 5
}
