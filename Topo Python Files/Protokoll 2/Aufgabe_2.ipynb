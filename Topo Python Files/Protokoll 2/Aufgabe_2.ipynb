{
 "cells": [
  {
   "cell_type": "markdown",
   "id": "0c82e15b",
   "metadata": {
    "deletable": false,
    "editable": false,
    "nbgrader": {
     "cell_type": "markdown",
     "checksum": "5f7985a57123cdfbc310f5e0c5cc459c",
     "grade": false,
     "grade_id": "p2_titel",
     "locked": true,
     "schema_version": 3,
     "solution": false,
     "task": false
    }
   },
   "source": [
    "## Topographische Modelle für UIW (120.109)\n",
    "\n",
    "### Protokoll 2"
   ]
  },
  {
   "cell_type": "markdown",
   "id": "ce3c436d-0ffc-43dd-b193-de8341e9b4c5",
   "metadata": {
    "deletable": false,
    "editable": false,
    "nbgrader": {
     "cell_type": "markdown",
     "checksum": "e3ab7407e20c5177a7a9913beb42bee6",
     "grade": false,
     "grade_id": "cell-f7efba127bb0a7a8",
     "locked": true,
     "schema_version": 3,
     "solution": false,
     "task": false
    },
    "tags": []
   },
   "source": [
    "### Präambel\n",
    "\n",
    "Fügen Sie Ihren Code bzw. ihre Antworten an den Stellen ein, die mit `YOUR CODE HERE` oder \\\"YOUR ANSWER HERE\\\" gekennzeichnet sind. **Wichtig**: Bevor Sie die Aufgabe abgeben, stellen Sie sicher, dass die `raise NotImplementedError()` Zeilen aus Ihrem Code entfernt wurden, und dass Ihr Code fehlerlos durchläuft. Starten Sie dazu den Kernel neu und führen Sie alle Zellen aus (Doppelpfeilsymbol in der Menüleiste)."
   ]
  },
  {
   "cell_type": "markdown",
   "id": "26376567",
   "metadata": {
    "deletable": false,
    "editable": false,
    "nbgrader": {
     "cell_type": "markdown",
     "checksum": "89e88e38c8e5f0e0f8ce1cdd02bf99ff",
     "grade": false,
     "grade_id": "p2_aufgabe_2a",
     "locked": true,
     "schema_version": 3,
     "solution": false,
     "task": false
    },
    "tags": []
   },
   "source": [
    "### Aufgabe 2a\n",
    "Gegeben ist die 3D Punktwolke (*pcl.laz*) einer Airborne Laserscanning Befliegung eines kleinen Auwaldgebietes zwischen der Bundesstraße 1 und dem an der Pielach bei Loosdorf/NÖ. Die Erfassung erfolgte im laubfreien Zustand. Der Datensatz weist eine sehr gute Vegetationsdurchdringung aus, sodass Punkte sowohl auf den Baumkronen als auch am Boden vorhanden sind. \n",
    "\n",
    "![](3d-pcl.png)\n",
    "\n",
    "Ziel dieser Aufgabe ist die Klassifizierung der gegebenen Punktwolke in Boden- und Nicht-Bodenpunkte, um anschließend mit den zum Boden gehörigen Punkten ein Digitales Geländemodell (DGM) zu berechnen. Lesen Sie zunächst die Daten mittels [Import](https://opals.geo.tuwien.ac.at/html/stable/ModuleImport.html) in den [OPALS Datenmanager](https://opals.geo.tuwien.ac.at/html/stable/ref_odm.html) ein und speichern Sie das Ergebnis unter dem Namen *pcl.odm*.\n",
    "\n",
    "Analysieren Sie vorab für die Wahl einer geeigneten DGM-Gitterweite die Punktdichte ($Pkt/m^{2}$) mit den Modulen [Cell](https://opals.geo.tuwien.ac.at/html/stable/ModuleCell.html) und\n",
    "[Histo](https://opals.geo.tuwien.ac.at/html/stable/ModuleHisto.html). Verwenden Sie zur Punktdichteanalyse nur die jeweils letzten Echos jedes Laserpulses.\n",
    "Speichern Sie die mittlere Punktdichte in der Variablen `mittlere_punktdichte` und den Median der Punktdichte als `median_punkdichte`.  Das Modul Histo bennötigt bis auf inFile und outFile keine weiteren Parameter.\n",
    "Die Parametereinstellungen für das Modul Cell können direkt aus dieser Angabe übernommen werden:\n",
    "- cellSize = 2\n",
    "- feature = 'pdens'\n",
    "- filter = 'echo[last]'\n",
    "\n",
    "##### Hinweis: Das Histogramm kann die durchschnittliche Anzahl an Punkten pro $m^{2}$ liefern. Für die Erstellung des digitalen Geländemodells mittels Interpolation sollten Sie eine Gitterweite wählen, die für jede Rasterzelle mehr als einen Punkt garantiert und gleichzeitig möglichst klein ist um ein glattes Ergebnis zu erzeugen.\n",
    "\n",
    "Verwenden Sie zur Filterung der Bodenpunkte das OPALS Modul [TerrainFilter](https://opals.geo.tuwien.ac.at/html/nightly/ModuleTerrainFilter.html). Experimentieren Sie mit folgenden Parametern des Moduls, bis Sie ein zufriedenstellendes Ergebnis für das DGM erzielt haben:\n",
    "- gridSize\n",
    "- pyramidLevels\n",
    "- filterThresholds\n",
    "\n",
    "##### Hinweis: Beurteilen Sie das Ergebnis durch eine visuelle Analyse der DGM-Schummerung (siehe unten!)\n",
    "\n",
    "Anschließend kann mit Hilfe des Moduls [Grid](https://opals.geo.tuwien.ac.at/html/stable/ModuleGrid.html) ein DGM erstellt werden. Verwenden Sie dafür nur die als Bodenpunkte klassifizierten Punkte. Folgende Parameter sind für eine erfolgreiche Interpolation der Daten einzustellen, wobei Sie die ersten drei Einstellungen direkt aus dieser Angabe übernehmen können, passende Werte für die anderen Parameter sind selbstständig zu finden:\n",
    "- filter = 'class[ground]'\n",
    "- selMode = opals.Types.SelectionMode.quadrant\n",
    "- interpolation = opals.Types.GridInterpolator.movingPlanes\n",
    "- gridSize\n",
    "- neighbours\n",
    "- searchRadius\n",
    "\n",
    "##### Hinweis: Wenn sie bestimmte Parameter oder Funktionen nachschlagen wollen, machen Sie sich mit der [OPALS](https://opals.geo.tuwien.ac.at/html/stable/index.html) Dokumentation vertraut.\n",
    "\n",
    "Erstellen Sie abschließend für das DGM mit Hilfe der OPALS Module [ZColor](https://opals.geo.tuwien.ac.at/html/stable/ModuleZColor.html) und [Shade](https://opals.geo.tuwien.ac.at/html/stable/ModuleShade.html), sowohl ein farbkodiertes TIF als auch ein ein Hillshade und speichern Sie die resultierenden Ergebnisse unter folgenden Dateinamen ab:\n",
    "- Geländemodell: *dgm.tif*\n",
    "- Schummerung: *dgm_hillshade.tif*\n",
    "- Höhenkodierung: *dgm_zcolor.tif*\n",
    "\n",
    "![](DGM_bsp.jpeg)"
   ]
  },
  {
   "cell_type": "code",
   "execution_count": 15,
   "id": "da9b8e9c",
   "metadata": {
    "deletable": false,
    "editable": false,
    "nbgrader": {
     "cell_type": "code",
     "checksum": "e68f62f332ea22ba72d15d7506c521c3",
     "grade": false,
     "grade_id": "p2_import",
     "locked": true,
     "schema_version": 3,
     "solution": false,
     "task": false
    },
    "tags": []
   },
   "outputs": [],
   "source": [
    "#\n",
    "# Import Statements\n",
    "#\n",
    "import rasterio\n",
    "import shapely\n",
    "import fiona\n",
    "import os"
   ]
  },
  {
   "cell_type": "code",
   "execution_count": 16,
   "id": "2da64654",
   "metadata": {
    "deletable": false,
    "nbgrader": {
     "cell_type": "code",
     "checksum": "ba43e954a69cc74c7e576b56c69ce90f",
     "grade": false,
     "grade_id": "p2_2a_code",
     "locked": false,
     "schema_version": 3,
     "solution": true,
     "task": false
    },
    "revert": "# YOUR CODE HERE\nraise NotImplementedError()",
    "tags": []
   },
   "outputs": [
    {
     "data": {
      "text/plain": [
       "[Parameter(path=inFile, values=dgm.tif, type=Path, source=interFace),\n",
       " Parameter(path=outFile, values=dgm_zcolor.tif, type=Path, source=interFace),\n",
       " Parameter(path=oFormat, values=GTiff, type=String, source=estimated),\n",
       " Parameter(path=pixelSize, values=0.25, type=float, source=estimated),\n",
       " Parameter(path=interval, values=0.75, type=Vector<float>, source=interFace),\n",
       " Parameter(path=nClasses, values=, type=uint32, source=unknown),\n",
       " Parameter(path=palFile, values=standardPal.xml, type=Path, source=interFace),\n",
       " Parameter(path=legend, values=file=dgm_zcolorLegend.svg, type=ZColorLegend, source=estimated),\n",
       " Parameter(path=scalePal, values=, type=ZColorScalePal, source=unknown),\n",
       " Parameter(path=offsetPal, values=0, type=float, source=estimated),\n",
       " Parameter(path=zRange, values=, type=Array<float,2>, source=unknown),\n",
       " Parameter(path=limit, values=, type=GridLimit, source=unknown),\n",
       " Parameter(path=resampling, values=, type=ResamplingMethod, source=unknown),\n",
       " Parameter(path=band, values=0, type=String, source=internalDefault),\n",
       " Parameter(path=createAlpha, values=0, type=bool, source=internalDefault)]"
      ]
     },
     "execution_count": 16,
     "metadata": {},
     "output_type": "execute_result"
    }
   ],
   "source": [
    "# YOUR CODE HERE\n",
    "import opals\n",
    "from opals import Import, TerrainFilter, Cell, Grid, Histo, Shade, ZColor, DSM, Algebra\n",
    "\n",
    "Import.Import(inFile = 'pcl.laz', outFile = 'pcl.odm').run()\n",
    "\n",
    "Cell.Cell(inFile = 'pcl.odm', cellSize = 2, feature = 'pdens', filter = 'echo[last]', outFile = 'punktdichte.tif').run()\n",
    "his = Histo.Histo(inFile = 'punktdichte.tif')\n",
    "his.run()\n",
    "\n",
    "mittlere_punktdichte = his.histogram[0].getMean()\n",
    "median_punktdichte = his.histogram[0].getMedian()\n",
    "\n",
    "tf = TerrainFilter.TerrainFilter(inFile = 'pcl.odm')\n",
    "tf.filter = 'echo[last]'\n",
    "tf.robustInterpolation.gridSize = 0.6   #Löcher\n",
    "tf.robustInterpolation.pyramidLevels = 4    \n",
    "tf.robustInterpolation.filterThresholds = [0.1, 0.5, 1, 2.5]\n",
    "tf.run()\n",
    "\n",
    "grd = Grid.Grid(inFile = 'pcl.odm', outFile = 'dgm.tif')\n",
    "grd.filter = 'class[ground]'\n",
    "grd.gridSize = 0.25 #so dass ein paar Punkte in jedem Grid sind\n",
    "grd.neighbours = 8 #gerade Anzahl\n",
    "grd.searchRadius = 5\n",
    "grd.selMode = opals.Types.SelectionMode.quadrant\n",
    "grd.interpolation = opals.Types.GridInterpolator.movingPlanes\n",
    "grd.run()\n",
    "\n",
    "Shade.Shade(inFile = 'dgm.tif', outFile = 'dgm_hillshade.tif', sunPosition = [350,50], shading = opals.Types.ShadingMethod.tanaka).run()\n",
    "\n",
    "ZColor.ZColor(inFile = 'dgm.tif', outFile = 'dgm_zcolor.tif', palFile = 'standardPal.xml', interval = 0.75).run()"
   ]
  },
  {
   "cell_type": "code",
   "execution_count": 17,
   "id": "b6529959",
   "metadata": {
    "deletable": false,
    "editable": false,
    "nbgrader": {
     "cell_type": "code",
     "checksum": "0e51af092ef4f4ad7ec03382c0abfad9",
     "grade": true,
     "grade_id": "p2_2a_test0",
     "locked": true,
     "points": 0.5,
     "schema_version": 3,
     "solution": false,
     "task": false
    },
    "tags": []
   },
   "outputs": [],
   "source": [
    "# Sichtbare Überprüfungen\n",
    "assert os.path.exists('pcl.odm')\n",
    "#\n",
    "assert 'mittlere_punktdichte' in globals()\n",
    "assert 'median_punktdichte' in globals()\n",
    "#\n",
    "assert 'Import' in globals()\n",
    "assert 'Cell' in globals()\n",
    "assert 'Histo' in globals()\n",
    "assert 'TerrainFilter' in globals()\n",
    "assert 'Grid' in globals()\n",
    "assert 'Shade' in globals()\n",
    "assert 'ZColor' in globals()"
   ]
  },
  {
   "cell_type": "code",
   "execution_count": 18,
   "id": "2c841ad3",
   "metadata": {
    "deletable": false,
    "editable": false,
    "nbgrader": {
     "cell_type": "code",
     "checksum": "96aeb9c0d7e0d0da306d8e5def712ab8",
     "grade": true,
     "grade_id": "p2_2a_test1",
     "locked": true,
     "points": 2,
     "schema_version": 3,
     "solution": false,
     "task": false
    },
    "tags": []
   },
   "outputs": [],
   "source": [
    "# Verborgene Überprüfungen 1"
   ]
  },
  {
   "cell_type": "code",
   "execution_count": 19,
   "id": "0241b44b",
   "metadata": {
    "deletable": false,
    "editable": false,
    "nbgrader": {
     "cell_type": "code",
     "checksum": "b7bcb9a1bf4425d068477e4a8e0d5a0a",
     "grade": true,
     "grade_id": "p2_2a_test2",
     "locked": true,
     "points": 1,
     "schema_version": 3,
     "solution": false,
     "task": false
    },
    "tags": []
   },
   "outputs": [],
   "source": [
    "# Verborgene Überprüfungen 2"
   ]
  },
  {
   "cell_type": "code",
   "execution_count": 20,
   "id": "21c17d76",
   "metadata": {
    "deletable": false,
    "editable": false,
    "nbgrader": {
     "cell_type": "code",
     "checksum": "32bd9827deeb360dd33f759931f21da8",
     "grade": true,
     "grade_id": "p2_2a_test4",
     "locked": true,
     "points": 1,
     "schema_version": 3,
     "solution": false,
     "task": false
    },
    "tags": []
   },
   "outputs": [],
   "source": [
    "# Verborgene Überprüfungen 3"
   ]
  },
  {
   "cell_type": "code",
   "execution_count": 21,
   "id": "02af20e1",
   "metadata": {
    "deletable": false,
    "editable": false,
    "nbgrader": {
     "cell_type": "code",
     "checksum": "f14ab912a1e3a58780c21a51017c87ff",
     "grade": true,
     "grade_id": "p2_2a_test5",
     "locked": true,
     "points": 1,
     "schema_version": 3,
     "solution": false,
     "task": false
    },
    "tags": []
   },
   "outputs": [],
   "source": [
    "# Verborgene Überprüfungen 4"
   ]
  },
  {
   "cell_type": "markdown",
   "id": "7f1f4937-2ed9-4e16-9023-024d65341d9a",
   "metadata": {
    "deletable": false,
    "editable": false,
    "nbgrader": {
     "cell_type": "markdown",
     "checksum": "5ee6f444a1200fb9c120e518e83a8027",
     "grade": false,
     "grade_id": "p2_aufgabe_2b",
     "locked": true,
     "schema_version": 3,
     "solution": false,
     "task": false
    },
    "tags": []
   },
   "source": [
    "### Aufgabe 2b\n",
    "Berechnen Sie aus der 3D-Punktwolke *pcl.laz* ein Digitales Oberflächenmodell (DOM) nach dem Verfahren von Hollaus et al. (2010). Verwenden Sie dazu das Modul [DSM](https://opals.geo.tuwien.ac.at/html/stable/ModuleDSM.html). Im Gegensatz zum DGM werden bei der Erstellung eines DOM alle Punkte des Datensatzes verwendet. Um ein zufriedenstellendes Ergebnis zu erhalten sollten folgende Parameter des Moduls eingestellt werden:\n",
    "- gridSize\n",
    "- neighbours\n",
    "- searchRadius \n",
    "- maxSigma\n",
    "\n",
    "Erstellen Sie analog zu *Aufgabe 2a* eine Schummerung und Höhenkodierung für das DOM. Verwenden Sie dazu Parameter Ihrer Wahl (die ein visuell ansprechendes Ergebnis erzeugen) und speichern Sie all Ihre Ergebnisse unter folgenden Dateinamen ab:\n",
    "- Oberflächenmodell: *dom.tif*\n",
    "- Schummerung: *dom_hillshade.tif*\n",
    "- Höhenkodierung: *dom_zcolor.tif*\n",
    "\n",
    "![](DOM_bsp.jpeg)"
   ]
  },
  {
   "cell_type": "code",
   "execution_count": 22,
   "id": "ccf76e3b-7153-4874-a90c-f774cb70542f",
   "metadata": {
    "deletable": false,
    "editable": false,
    "nbgrader": {
     "cell_type": "code",
     "checksum": "49634c22daa2064ccf7f6c00b329cd8e",
     "grade": false,
     "grade_id": "p2_2b_import",
     "locked": true,
     "schema_version": 3,
     "solution": false,
     "task": false
    },
    "tags": []
   },
   "outputs": [],
   "source": [
    "#\n",
    "# Import Statements\n",
    "#\n",
    "import rasterio\n",
    "import fiona\n",
    "from os import path"
   ]
  },
  {
   "cell_type": "code",
   "execution_count": 23,
   "id": "5a74cf7f-9a00-4c85-a3cc-a84ccd33b7d1",
   "metadata": {
    "deletable": false,
    "nbgrader": {
     "cell_type": "code",
     "checksum": "181a174ec0780da9317329d52efc9afd",
     "grade": false,
     "grade_id": "p2_2b_code",
     "locked": false,
     "schema_version": 3,
     "solution": true,
     "task": false
    },
    "revert": "# YOUR CODE HERE\nraise NotImplementedError()",
    "tags": []
   },
   "outputs": [
    {
     "data": {
      "text/plain": [
       "[Parameter(path=inFile, values=dom.tif, type=Path, source=interFace),\n",
       " Parameter(path=outFile, values=dom_zcolor.tif, type=Path, source=interFace),\n",
       " Parameter(path=oFormat, values=GTiff, type=String, source=estimated),\n",
       " Parameter(path=pixelSize, values=0.400000006, type=float, source=estimated),\n",
       " Parameter(path=interval, values=2, type=Vector<float>, source=interFace),\n",
       " Parameter(path=nClasses, values=, type=uint32, source=unknown),\n",
       " Parameter(path=palFile, values=standardPal.xml, type=Path, source=interFace),\n",
       " Parameter(path=legend, values=file=dom_zcolorLegend.svg, type=ZColorLegend, source=estimated),\n",
       " Parameter(path=scalePal, values=, type=ZColorScalePal, source=unknown),\n",
       " Parameter(path=offsetPal, values=0, type=float, source=estimated),\n",
       " Parameter(path=zRange, values=, type=Array<float,2>, source=unknown),\n",
       " Parameter(path=limit, values=, type=GridLimit, source=unknown),\n",
       " Parameter(path=resampling, values=, type=ResamplingMethod, source=unknown),\n",
       " Parameter(path=band, values=0, type=String, source=internalDefault),\n",
       " Parameter(path=createAlpha, values=0, type=bool, source=internalDefault)]"
      ]
     },
     "execution_count": 23,
     "metadata": {},
     "output_type": "execute_result"
    }
   ],
   "source": [
    "# YOUR CODE HERE\n",
    "dsm = DSM.DSM(inFile = 'pcl.odm', outFile = 'dom.tif')\n",
    "dsm.gridSize = 0.4             #Gridsize etwas größer als bei DGM\n",
    "dsm.neighbours = 16      #höhere Werte sind besser, aber nicht zu hoch\n",
    "dsm.searchRadius = 5\n",
    "dsm.maxSigma = 0.2       #je höher, desto unschärfer wird es\n",
    "dsm.run()\n",
    "\n",
    "Shade.Shade(inFile = 'dom.tif', outFile = 'dom_hillshade.tif', sunPosition = [350,50], shading = opals.Types.ShadingMethod.tanaka).run()\n",
    "\n",
    "ZColor.ZColor(inFile = 'dom.tif', outFile = 'dom_zcolor.tif', palFile = 'standardPal.xml', interval = 2).run()"
   ]
  },
  {
   "cell_type": "code",
   "execution_count": 24,
   "id": "a2eccdb9-6ef5-44ef-a5b3-fe62315ff3d7",
   "metadata": {
    "deletable": false,
    "editable": false,
    "nbgrader": {
     "cell_type": "code",
     "checksum": "80978b9ce1ca45add937cb08d7cc0be0",
     "grade": true,
     "grade_id": "p2_2b_test0",
     "locked": true,
     "points": 0.25,
     "schema_version": 3,
     "solution": false,
     "task": false
    },
    "tags": []
   },
   "outputs": [],
   "source": [
    "# Sichtbare Überprüfungen\n",
    "assert path.exists('dom.tif')\n",
    "#\n",
    "assert 'Import' in globals()\n",
    "assert 'DSM' in globals()\n",
    "assert 'Shade' in globals()\n",
    "assert 'ZColor' in globals()"
   ]
  },
  {
   "cell_type": "code",
   "execution_count": 25,
   "id": "11495d00-49ec-43a1-ac1a-ef624c49c88d",
   "metadata": {
    "deletable": false,
    "editable": false,
    "nbgrader": {
     "cell_type": "code",
     "checksum": "98612e20c904eae3110cadd1a22daef0",
     "grade": true,
     "grade_id": "p2_2b_test1",
     "locked": true,
     "points": 1.5,
     "schema_version": 3,
     "solution": false,
     "task": false
    },
    "tags": []
   },
   "outputs": [],
   "source": [
    "# Verborgene Überprüfungen 1"
   ]
  },
  {
   "cell_type": "code",
   "execution_count": 26,
   "id": "048215be-1722-4e4b-90f2-34f9845f8ce4",
   "metadata": {
    "deletable": false,
    "editable": false,
    "nbgrader": {
     "cell_type": "code",
     "checksum": "67534bc05cf351f576b1e32397d77f90",
     "grade": true,
     "grade_id": "p2_2b_test2",
     "locked": true,
     "points": 1,
     "schema_version": 3,
     "solution": false,
     "task": false
    },
    "tags": []
   },
   "outputs": [],
   "source": [
    "# Verborgene Überprüfungen 2"
   ]
  },
  {
   "cell_type": "markdown",
   "id": "f0625ab7-85d0-439a-95e7-f563e00ad9c6",
   "metadata": {
    "deletable": false,
    "editable": false,
    "nbgrader": {
     "cell_type": "markdown",
     "checksum": "562899ccee708045d96bc094ee7430c2",
     "grade": false,
     "grade_id": "p2_aufgabe_2c",
     "locked": true,
     "schema_version": 3,
     "solution": false,
     "task": false
    },
    "tags": []
   },
   "source": [
    "### Aufgabe 2c\n",
    "Leiten Sie aus DGM und DOM ein normalisiertes Oberflächenmodell (nDOM) ab. Hierbei wird das DGM vom DOM subtrahiert um lediglich die Objekthöhen ohne Geländehöhe zu erhalten. Verwenden Sie dazu das Modul [Algebra](https://opals.geo.tuwien.ac.at/html/stable/ModuleAlgebra.html) und stellen Sie sicher, dass im nDOM keine negativen Höhen auftreten. Wählen Sie zur Berechnung des nDOM die gleiche Gitterweite wie jene des DGM. Visualisieren Sie das nDOM als höhenkodierte Rastergrafik mit einer Farbpalette ihrer Wahl (z.B. colorBrewer_SpectralPal.xml). Ermitteln Sie abschließend die mittlere Baumhöhe und das Vegetationsvolumen. Verwenden Sie dafür das Modul Histo und das zuvor erstellte nDOM.\n",
    "\n",
    "Speichern Sie Ihre Ergebnisse unter folgenden Namen ab:\n",
    "- Normalisiertes Oberfläcenmodell: *ndom.tif*\n",
    "- Höhenkodierung: *ndom_zcolor.tif*\n",
    "\n",
    "![](nDOM_bsp.jpeg)"
   ]
  },
  {
   "cell_type": "code",
   "execution_count": 27,
   "id": "c97d2ae2-b90a-40f6-805f-05db21c75305",
   "metadata": {
    "deletable": false,
    "nbgrader": {
     "cell_type": "code",
     "checksum": "1fd8898daf88a32e3242c8b43e9de957",
     "grade": false,
     "grade_id": "p2_2c_code",
     "locked": false,
     "schema_version": 3,
     "solution": true,
     "task": false
    },
    "revert": "# YOUR CODE HERE\nraise NotImplementedError()\n",
    "tags": []
   },
   "outputs": [
    {
     "name": "stdout",
     "output_type": "stream",
     "text": [
      "Mittlere Baumhöhe:  5.880184496405239 m \n",
      "Vegetationsvolumen:  55202.78526882162 m³\n"
     ]
    }
   ],
   "source": [
    "# YOUR CODE HERE\n",
    "alg = Algebra.Algebra(inFile = ['dgm.tif', 'dom.tif'], outFile = 'ndom.tif', gridSize = 0.25)\n",
    "alg.formula = 'r[1]>=r[0] && r[0]>=0 ? r[1]-r[0] : 0'\n",
    "alg.run()\n",
    "\n",
    "ZColor.ZColor(inFile = 'ndom.tif', palFile = 'colorBrewer_SpectralPal.xml', scalePal = '0 30', interval = [0.25, 2]).run()\n",
    "\n",
    "his = Histo.Histo(inFile = 'ndom.tif')\n",
    "his.run()\n",
    "\n",
    "mittlere_baumhoehe = his.histogram[0].getMean()\n",
    "flaeche = his.histogram[0].getCountUsed() / mittlere_punktdichte\n",
    "vegetationsvolumen = mittlere_baumhoehe * flaeche\n",
    "print('Mittlere Baumhöhe: ', mittlere_baumhoehe, 'm','\\nVegetationsvolumen: ', vegetationsvolumen, 'm³')"
   ]
  },
  {
   "cell_type": "code",
   "execution_count": 28,
   "id": "5d08644e-7425-4c43-9097-266992362666",
   "metadata": {
    "deletable": false,
    "editable": false,
    "nbgrader": {
     "cell_type": "code",
     "checksum": "36f4a535013580b9099b60468c801501",
     "grade": true,
     "grade_id": "p2_2c_test0",
     "locked": true,
     "points": 0.25,
     "schema_version": 3,
     "solution": false,
     "task": false
    },
    "tags": []
   },
   "outputs": [
    {
     "ename": "AssertionError",
     "evalue": "",
     "output_type": "error",
     "traceback": [
      "\u001b[0;31m---------------------------------------------------------------------------\u001b[0m",
      "\u001b[0;31mAssertionError\u001b[0m                            Traceback (most recent call last)",
      "Cell \u001b[0;32mIn [28], line 8\u001b[0m\n\u001b[1;32m      6\u001b[0m \u001b[38;5;28;01massert\u001b[39;00m \u001b[38;5;124m'\u001b[39m\u001b[38;5;124mZColor\u001b[39m\u001b[38;5;124m'\u001b[39m \u001b[38;5;129;01min\u001b[39;00m \u001b[38;5;28mglobals\u001b[39m()\n\u001b[1;32m      7\u001b[0m \u001b[38;5;66;03m#\u001b[39;00m\n\u001b[0;32m----> 8\u001b[0m \u001b[38;5;28;01massert\u001b[39;00m \u001b[38;5;124m'\u001b[39m\u001b[38;5;124mmittel\u001b[39m\u001b[38;5;124m'\u001b[39m \u001b[38;5;129;01min\u001b[39;00m \u001b[38;5;28mglobals\u001b[39m()\n\u001b[1;32m      9\u001b[0m \u001b[38;5;28;01massert\u001b[39;00m \u001b[38;5;124m'\u001b[39m\u001b[38;5;124mvolumen\u001b[39m\u001b[38;5;124m'\u001b[39m \u001b[38;5;129;01min\u001b[39;00m \u001b[38;5;28mglobals\u001b[39m()\n",
      "\u001b[0;31mAssertionError\u001b[0m: "
     ]
    }
   ],
   "source": [
    "# Sichtbare Überprüfungen\n",
    "assert path.exists('ndom.tif')\n",
    "#\n",
    "assert 'Algebra' in globals()\n",
    "assert 'Histo' in globals()\n",
    "assert 'ZColor' in globals()\n",
    "#\n",
    "assert 'mittel' in globals()\n",
    "assert 'volumen' in globals()"
   ]
  },
  {
   "cell_type": "code",
   "execution_count": null,
   "id": "f0f3c03f-fe23-47e0-a643-c0bd458b0a94",
   "metadata": {
    "deletable": false,
    "editable": false,
    "nbgrader": {
     "cell_type": "code",
     "checksum": "0cecfade1a09ed8efa8d5244f0c44889",
     "grade": true,
     "grade_id": "p2_2c_test1",
     "locked": true,
     "points": 1.5,
     "schema_version": 3,
     "solution": false,
     "task": false
    },
    "tags": []
   },
   "outputs": [],
   "source": [
    "# Verborgene Überprüfungen 1"
   ]
  },
  {
   "cell_type": "markdown",
   "id": "cb633a18-c96c-410a-ab3d-8ae6488e18fa",
   "metadata": {
    "deletable": false,
    "editable": false,
    "nbgrader": {
     "cell_type": "markdown",
     "checksum": "e9e27922d07a89b294f4cb98d0810771",
     "grade": false,
     "grade_id": "cell-ed2b420fce3a2dc2",
     "locked": true,
     "schema_version": 3,
     "solution": false,
     "task": false
    },
    "tags": []
   },
   "source": [
    "### Aufgabe 2d\n",
    "\n",
    "Abschließend sollen im QGIS drei Karten visualisiert werden (Bezugssystem: ETRS 89, UTM 32N; EPSG: 25832). Die erste Karte soll Schummerung und Höhenkodierung des DGM enthalten. Legen Sie dazu die beiden TIFs übereinander und machen Sie das oberhalb liegende Bild transparent (50%). Die zweite Karte soll Schummerung und Höhenkodierung des DOM enthalten. Gehen sie beim Erstellen vor wie bei der ersten Karte. Die dritte Karte soll das Farbkodierte nDOM enthalten. Die Karten sollen folgende Elemente aufweisen:\n",
    "\n",
    "- Daten (DGM, DOM und nDOM)\n",
    "- Titel\n",
    "- Legende, welche Sie durch das OPALS Modul ZColor erstellt haben (.svg-Datei)\n",
    "- Nordpfeil\n",
    "- Grid (nur Kartenrahmen mit Koordinatenzeichen)\n",
    "- Maßstabsleiste (Größe sinnvoll wählen)\n",
    "\n",
    "\n",
    "Speichern Sie Ihre Karten unter folgenden Namen ab:\n",
    "- *DGM.pdf*\n",
    "- *DOM.pdf*\n",
    "- *nDOM.pdf*"
   ]
  }
 ],
 "metadata": {
  "kernelspec": {
   "display_name": "Python 3 (ipykernel)",
   "language": "python",
   "name": "python3"
  },
  "language_info": {
   "codemirror_mode": {
    "name": "ipython",
    "version": 3
   },
   "file_extension": ".py",
   "mimetype": "text/x-python",
   "name": "python",
   "nbconvert_exporter": "python",
   "pygments_lexer": "ipython3",
   "version": "3.9.15"
  }
 },
 "nbformat": 4,
 "nbformat_minor": 5
}
