{
 "cells": [
  {
   "cell_type": "markdown",
   "id": "0c82e15b",
   "metadata": {
    "deletable": false,
    "editable": false,
    "nbgrader": {
     "cell_type": "markdown",
     "checksum": "5f7985a57123cdfbc310f5e0c5cc459c",
     "grade": false,
     "grade_id": "p2_titel",
     "locked": true,
     "schema_version": 3,
     "solution": false,
     "task": false
    }
   },
   "source": [
    "## Topographische Modelle für UIW (120.109)\n",
    "\n",
    "### Protokoll 2"
   ]
  },
  {
   "cell_type": "markdown",
   "id": "f0ef31fb-3b59-4250-a0c8-0a3030117029",
   "metadata": {
    "deletable": false,
    "editable": false,
    "nbgrader": {
     "cell_type": "markdown",
     "checksum": "3553d6af694cd6186f0f834c0399de93",
     "grade": false,
     "grade_id": "cell-f3b39625dba58caa",
     "locked": true,
     "schema_version": 3,
     "solution": false,
     "task": false
    },
    "tags": []
   },
   "source": [
    "### Präambel\n",
    "\n",
    "Fügen Sie Ihren Code bzw. ihre Antworten an den Stellen ein, die mit `YOUR CODE HERE` oder \\\"YOUR ANSWER HERE\\\" gekennzeichnet sind. **Wichtig**: Bevor Sie die Aufgabe abgeben, stellen Sie sicher, dass die `raise NotImplementedError()` Zeilen aus Ihrem Code entfernt wurden, und dass Ihr Code fehlerlos durchläuft. Starten Sie dazu den Kernel neu und führen Sie alle Zellen aus (Doppelpfeilsymbol in der Menüleiste)."
   ]
  },
  {
   "cell_type": "markdown",
   "id": "26376567",
   "metadata": {
    "deletable": false,
    "editable": false,
    "nbgrader": {
     "cell_type": "markdown",
     "checksum": "b33fa38195855333edd3ac1e22c124b1",
     "grade": false,
     "grade_id": "p2_aufgabe_1",
     "locked": true,
     "schema_version": 3,
     "solution": false,
     "task": false
    },
    "tags": []
   },
   "source": [
    "### Aufgabe 1\n",
    "Gegeben ist ein Set an (synthetischen) Punkten in der Datei *punkte.xyz*. Eine 3D-Ansicht der Punktwolke ist in der folgenden Abbildung zu sehen:\n",
    "\n",
    "![Synthetische 3D-Punkte](3d-points.png)\n",
    "\n",
    "Die Punkte umspannen im Grundriss ein Quadrat von 10m Seitenlänge, und der Datensatz weist eine minimale Höhe von 1m (blaue Punkte) und zwei Spitzen mit einer Höhe von bis zu 7.75m (rote Punkte) auf.\n",
    "\n",
    "Lesen Sie zunächst die Punkte mittels [Import](https://opals.geo.tuwien.ac.at/html/stable/ModuleImport.html) in einen OPALS Datenmanager ein und speichern Sie diesen in der Datei *punkte.odm*. Interpolieren Sie anschließend mittels [Grid](https://opals.geo.tuwien.ac.at/html/stable/ModuleGrid.html) verschiedene Flächenmodelle nach den u.a. Vorgaben und speichern Sie diese jeweils als regelmäßges Raster mit einer Gitterweite von 2cm. Leiten Sie für jedes Gittermodell mit [Shade](https://opals.geo.tuwien.ac.at/html/stable/ModuleShade.html) eine Schummerung und mit [ZColor](https://opals.geo.tuwien.ac.at/html/stable/ModuleZColor.html) eine Höhenkodierung ab. Verwenden Sie für die Benennung der Ausgabedateien die in der kommentierten Codezelle angegebenen Dateinamen. Erzeugen Sie vier Modelle mit den folgenden Interpolationsvarianten:\n",
    "\n",
    "- Delaunay Triangulierung (*delaunayTriangulation*)\n",
    "- Gleitende Schrägebene (*movingPlanes*) mit n gleichgewichteten Nachbarpunkten \n",
    "- Gleitendes Mittel (*movingAverage*) mit n Nachbarpunkten und inverser Distanzgewichtung: $w(d) = \\frac{1}{1+\\alpha d^\\beta}$\n",
    "- Lineare Prädiktion/Kriginng (*kriging*)\n",
    "\n",
    "Anmekungen und Hinweise:\n",
    "- Verwenden Sie in allen Fällen einen Suchradius von 15m, der sicher alle Punkte einschließt.\n",
    "- Wählen Sie *n* (Anzahl der Nachbarpunkte) für die *movingPlanes* und die *movingAverage* Interpolation so, dass die Überbestimmung mindestens 1 beträgt. \n",
    "- Setzen *n* für die kriging Interpolation gleich der Gesamtpunktanzahl (=39).\n",
    "- Verwenden Sie für die Höhenkodierung eine Äqudistanzintervall (*interval*) von 10cm und eine Skalierung der (Standard)Farbpallette (*scalePal*) von  0-8. Durch die Verwendung identischer Visualisierungsparameter können Sie im Nachgang die Ergebnisse besser unter einander vergleichen.\n",
    "- Bei der Verwendung der gleitenden Schrägenen- bzw Mittel-Interpolation wird es aufgrund des relativ zur Gitterweite großen Stützpunktabstandes zu Höhensprüngen kommen, wann immer sich die Nachbarschaft ändert. Beziehen Sie das bei der Beurteilung der Ergebnisse mit ein. \n",
    "- ad *movingAverage*: Experimentieren Sie mit der Gewichtsfunktion ([weightFunc](https://opals.geo.tuwien.ac.at/html/stable/ModuleGrid.html#grid_example_5)), um einen möglichst glatten Verlauf der interpolierten Gitterpunktshöhen zu erreichen. Ein glatter Übergang wird immer dann erreicht, wenn bei Änderung der Nachbarschaft, die wegfallenden bzw. neu hinzukommenden Punkte mit einem Gewicht nahe Null aufweisen.  Wählen Sie dazu geeignete Werte für $\\alpha$ und $\\beta$ (siehe Codezelle weiter unten) sowie für die Nachbarnanzahl. Hinweis: Ein perfekter Übergang wird sich bei der vorliegenden Datenlage/Aufgabenstellung  nicht erreichen lassen (siehe Schummerung)."
   ]
  },
  {
   "cell_type": "code",
   "execution_count": 1,
   "id": "eb88ffd6",
   "metadata": {
    "deletable": false,
    "editable": false,
    "nbgrader": {
     "cell_type": "code",
     "checksum": "b92824148f785cc261fec299c0942d42",
     "grade": false,
     "grade_id": "p2_1_import",
     "locked": true,
     "schema_version": 3,
     "solution": false,
     "task": false
    },
    "tags": []
   },
   "outputs": [],
   "source": [
    "#\n",
    "# Import Statements\n",
    "#\n",
    "import opals\n",
    "from opals import Import, Grid, Shade, ZColor"
   ]
  },
  {
   "cell_type": "code",
   "execution_count": 2,
   "id": "ac92c30c-a042-4330-80e6-375bd582139b",
   "metadata": {
    "deletable": false,
    "editable": false,
    "nbgrader": {
     "cell_type": "code",
     "checksum": "4e07739f1c8c47e9ff47e40c3ffb499f",
     "grade": false,
     "grade_id": "cell-03bf52651a4dad8e",
     "locked": true,
     "schema_version": 3,
     "solution": false,
     "task": false
    },
    "tags": []
   },
   "outputs": [],
   "source": [
    "###################################################################\n",
    "# Überprüfung/Sicherstellung der Nicht-Existenz der Ergbnisdateien\n",
    "###################################################################\n",
    "from os.path import exists\n",
    "from os import remove\n",
    "\n",
    "def del_if_exists(fp):\n",
    "    if exists(fp):\n",
    "        remove(fp)\n",
    "        \n",
    "# Variablendefinition (Dateinamen)\n",
    "odm = 'punkte.odm' \n",
    "\n",
    "tin_mod = 'tin.tif'            # Dateiname für Rastermodell aus Delaunay Triangulation\n",
    "mpl_mod = 'mpl.tif'            # Dateiname für Rastermodell aus Moving Planes Interpolation\n",
    "mav_mod = 'mav.tif'            # Dateiname für Rastermodell aus Moving Average Interpolation\n",
    "kri_mod = 'kri.tif'            # Dateiname für Rastermodell aus Lineare Prädiktion / Kriging\n",
    "#\n",
    "tin_shd = 'tin_shd.png'        # Dateiname für Schummerung von tin_mod\n",
    "mpl_shd = 'mpl_shd.png'        # Dateiname für Schummerung von mpl_mod\n",
    "mav_shd = 'mav_shd.png'        # Dateiname für Schummerung von mav_mod\n",
    "kri_shd = 'kri_shd.png'        # Dateiname für Schummerung von kri_mod\n",
    "#\n",
    "tin_zco = 'tin_zco.png'        # Dateiname für Höhenkodierung von tin_mod\n",
    "mpl_zco = 'mpl_zco.png'        # Dateiname für Höhenkodierung von mpl_mod\n",
    "mav_zco = 'mav_zco.png'        # Dateiname für Höhenkodierung von mav_mod\n",
    "kri_zco = 'kri_zco.png'        # Dateiname für Höhenkodierung von kri_mod\n",
    "\n",
    "# Dateien löschen\n",
    "del_if_exists(odm)\n",
    "#\n",
    "del_if_exists(tin_mod)\n",
    "del_if_exists(mpl_mod)\n",
    "del_if_exists(mav_mod)\n",
    "del_if_exists(kri_mod)\n",
    "#\n",
    "del_if_exists(tin_shd)\n",
    "del_if_exists(mpl_shd)\n",
    "del_if_exists(mav_shd)\n",
    "del_if_exists(kri_shd)\n",
    "#\n",
    "del_if_exists(tin_zco)\n",
    "del_if_exists(mpl_zco)\n",
    "del_if_exists(mav_zco)\n",
    "del_if_exists(kri_zco)\n",
    "#"
   ]
  },
  {
   "cell_type": "code",
   "execution_count": 3,
   "id": "67de127a",
   "metadata": {
    "deletable": false,
    "nbgrader": {
     "cell_type": "code",
     "checksum": "654c29488ee85fabaa98019c043badec",
     "grade": false,
     "grade_id": "p2_1_code",
     "locked": false,
     "schema_version": 3,
     "solution": true,
     "task": false
    },
    "revert": "# Importieren der Punkte\n# YOUR CODE HERE\nraise NotImplementedError()",
    "tags": []
   },
   "outputs": [
    {
     "data": {
      "text/plain": [
       "[Parameter(path=inFile, values=punkte.xyz, type=Vector<VectorOrRasterFile>, source=interFace),\n",
       " Parameter(path=iFormat, values=xyz, type=Vector<String>, source=estimated),\n",
       " Parameter(path=trjFile, values=, type=Vector<Path>, source=unknown),\n",
       " Parameter(path=tFormat, values=, type=Vector<String>, source=estimated),\n",
       " Parameter(path=outFile, values=punkte.odm, type=Path, source=interFace),\n",
       " Parameter(path=filter, values=, type=FilterWithPlaceHolders<coordinatesAttributes, coordinates | attributes | delayedResults>, source=unknown),\n",
       " Parameter(path=trafo, values=, type=TrafPars3dAffine, source=unknown),\n",
       " Parameter(path=storeOrder, values=, type=bool, source=unknown),\n",
       " Parameter(path=tilePointCount, values=200000, type=int32, source=internalDefault),\n",
       " Parameter(path=tileSize, values=, type=double, source=unknown),\n",
       " Parameter(path=storeBeamInfo, values=BeamVector, type=Vector<BeamInfo>, source=internalDefault),\n",
       " Parameter(path=mounting, values=, type=MountingPars, source=unknown),\n",
       " Parameter(path=mergePolygon, values=safe, type=MergePolygonMode, source=internalDefault)]"
      ]
     },
     "execution_count": 3,
     "metadata": {},
     "output_type": "execute_result"
    }
   ],
   "source": [
    "# Importieren der Punkte\n",
    "# YOUR CODE HERE\n",
    "Import.Import(inFile = 'punkte.xyz', outFile = odm).run()"
   ]
  },
  {
   "cell_type": "code",
   "execution_count": 4,
   "id": "5070a6d5-8ce0-45fe-9101-001b6faeabf2",
   "metadata": {
    "deletable": false,
    "nbgrader": {
     "cell_type": "code",
     "checksum": "4ea97117ff1c7457546227e659104417",
     "grade": false,
     "grade_id": "cell-6a9f05dd68c72bdb",
     "locked": false,
     "schema_version": 3,
     "solution": true,
     "task": false
    },
    "revert": "#\n# (Gewichts)funktion für inverse Distanzgewichtung bei der movingAverage Interpolation\n#\nalpha, beta = 2, 4                                                    # Wälen Sie geeignete Werte für alpha und beta\nwf= \"1. / ( 1 + {:} * pow(Dist2D(n[0],n[1]),{:}))\".format(alpha,beta)\n\n#\n# Setzten von weiteren allgemeinen Parametern (Gitterweite, Suchradius, ZColor-Parameter, etc.)\n#\n# YOUR CODE HERE\nraise NotImplementedError()",
    "tags": []
   },
   "outputs": [],
   "source": [
    "#\n",
    "# (Gewichts)funktion für inverse Distanzgewichtung bei der movingAverage Interpolation\n",
    "#\n",
    "alpha, beta = 3, 5                                             # Wälen Sie geeignete Werte für alpha und beta\n",
    "wf= \"1. / ( 1 + {:} * pow(Dist2D(n[0],n[1]),{:}))\".format(alpha,beta)\n",
    "\n",
    "#\n",
    "# Setzten von weiteren allgemeinen Parametern (Gitterweite, Suchradius, ZColor-Parameter, etc.)\n",
    "#\n",
    "# YOUR CODE HERE\n",
    "gitterweite = 0.02\n",
    "suchradius = 15\n",
    "scaleP='0 8'\n",
    "palF = 'standardPal.xml'"
   ]
  },
  {
   "cell_type": "code",
   "execution_count": 5,
   "id": "47957e9c-1ede-42e3-bfc9-91527282488a",
   "metadata": {
    "deletable": false,
    "nbgrader": {
     "cell_type": "code",
     "checksum": "413202a0e1f0deaaad937077787891a0",
     "grade": false,
     "grade_id": "cell-3925371c5e5e63a1",
     "locked": false,
     "schema_version": 3,
     "solution": true,
     "task": false
    },
    "revert": "# Berechnung und Visualisierung der Modellvariante: Dreiecksvermaschung (delaunayTriangulation)\n# YOUR CODE HERE\nraise NotImplementedError()",
    "tags": []
   },
   "outputs": [
    {
     "data": {
      "text/plain": [
       "[Parameter(path=inFile, values=tin.tif, type=Path, source=interFace),\n",
       " Parameter(path=outFile, values=tin_zco.png, type=Path, source=interFace),\n",
       " Parameter(path=oFormat, values=PNG, type=String, source=estimated),\n",
       " Parameter(path=pixelSize, values=0.0199999996, type=float, source=estimated),\n",
       " Parameter(path=interval, values=0.100000001, type=Vector<float>, source=interFace),\n",
       " Parameter(path=nClasses, values=, type=uint32, source=unknown),\n",
       " Parameter(path=palFile, values=standardPal.xml, type=Path, source=interFace),\n",
       " Parameter(path=legend, values=file=tin_zcoLegend.svg, type=ZColorLegend, source=estimated),\n",
       " Parameter(path=scalePal, values=0 8, type=ZColorScalePal, source=interFace),\n",
       " Parameter(path=offsetPal, values=, type=float, source=unknown),\n",
       " Parameter(path=zRange, values=, type=Array<float,2>, source=unknown),\n",
       " Parameter(path=limit, values=, type=GridLimit, source=unknown),\n",
       " Parameter(path=resampling, values=, type=ResamplingMethod, source=unknown),\n",
       " Parameter(path=band, values=0, type=String, source=internalDefault),\n",
       " Parameter(path=createAlpha, values=0, type=bool, source=internalDefault)]"
      ]
     },
     "execution_count": 5,
     "metadata": {},
     "output_type": "execute_result"
    }
   ],
   "source": [
    "# Berechnung und Visualisierung der Modellvariante: Dreiecksvermaschung (delaunayTriangulation)\n",
    "# YOUR CODE HERE\n",
    "grd = Grid.Grid(inFile = odm, outFile = tin_mod)\n",
    "grd.gridSize = gitterweite\n",
    "grd.searchRadius = suchradius\n",
    "grd.selMode = opals.Types.SelectionMode.quadrant\n",
    "grd.interpolation = opals.Types.GridInterpolator.delaunayTriangulation\n",
    "grd.run()\n",
    "\n",
    "Shade.Shade(inFile=tin_mod, outFile=tin_shd, sunPosition=[350,50],shading = opals.Types.ShadingMethod.tanaka).run()\n",
    "\n",
    "ZColor.ZColor(inFile=tin_mod, outFile=tin_zco, interval=0.1, palFile = palF, scalePal = scaleP).run()"
   ]
  },
  {
   "cell_type": "code",
   "execution_count": 48,
   "id": "5137ec64-c911-42e9-962e-a837fe3e7ef3",
   "metadata": {
    "deletable": false,
    "nbgrader": {
     "cell_type": "code",
     "checksum": "afc65a6c7d69aa51aff78623292188d1",
     "grade": false,
     "grade_id": "cell-a169a1578c678262",
     "locked": false,
     "schema_version": 3,
     "solution": true,
     "task": false
    },
    "revert": "# Berechnung und Visualisierung der Modellvariante: Gleitende Schrägebene (movingPlanes)\n# YOUR CODE HERE\nraise NotImplementedError()",
    "tags": []
   },
   "outputs": [
    {
     "data": {
      "text/plain": [
       "[Parameter(path=inFile, values=mpl.tif, type=Path, source=interFace),\n",
       " Parameter(path=outFile, values=mpl_zco.png, type=Path, source=interFace),\n",
       " Parameter(path=oFormat, values=PNG, type=String, source=estimated),\n",
       " Parameter(path=pixelSize, values=0.0199999996, type=float, source=estimated),\n",
       " Parameter(path=interval, values=0.100000001, type=Vector<float>, source=interFace),\n",
       " Parameter(path=nClasses, values=, type=uint32, source=unknown),\n",
       " Parameter(path=palFile, values=standardPal.xml, type=Path, source=interFace),\n",
       " Parameter(path=legend, values=file=mpl_zcoLegend.svg, type=ZColorLegend, source=estimated),\n",
       " Parameter(path=scalePal, values=0 8, type=ZColorScalePal, source=interFace),\n",
       " Parameter(path=offsetPal, values=, type=float, source=unknown),\n",
       " Parameter(path=zRange, values=, type=Array<float,2>, source=unknown),\n",
       " Parameter(path=limit, values=, type=GridLimit, source=unknown),\n",
       " Parameter(path=resampling, values=, type=ResamplingMethod, source=unknown),\n",
       " Parameter(path=band, values=0, type=String, source=internalDefault),\n",
       " Parameter(path=createAlpha, values=0, type=bool, source=internalDefault)]"
      ]
     },
     "execution_count": 48,
     "metadata": {},
     "output_type": "execute_result"
    }
   ],
   "source": [
    "# Berechnung und Visualisierung der Modellvariante: Gleitende Schrägebene (movingPlanes)\n",
    "# YOUR CODE HERE\n",
    "grd = Grid.Grid(inFile = odm, outFile = mpl_mod)\n",
    "grd.gridSize = gitterweite\n",
    "grd.searchRadius = suchradius\n",
    "grd.neighbours = 6\n",
    "grd.selMode = opals.Types.SelectionMode.quadrant\n",
    "grd.interpolation = opals.Types.GridInterpolator.movingPlanes\n",
    "grd.run()\n",
    "\n",
    "Shade.Shade(inFile=mpl_mod, outFile=mpl_shd, sunPosition=[350,50],shading = opals.Types.ShadingMethod.tanaka).run()\n",
    "\n",
    "ZColor.ZColor(inFile=mpl_mod, outFile=mpl_zco, interval=0.1, palFile = palF, scalePal = scaleP).run()"
   ]
  },
  {
   "cell_type": "code",
   "execution_count": 49,
   "id": "1e35a131-2d8b-4af9-8b00-253efe832731",
   "metadata": {
    "deletable": false,
    "nbgrader": {
     "cell_type": "code",
     "checksum": "76e9e2c9a070cbe8a2c081513414dd5a",
     "grade": false,
     "grade_id": "cell-a6f42e1858553234",
     "locked": false,
     "schema_version": 3,
     "solution": true,
     "task": false
    },
    "revert": "# Berechnung und Visualisierung der Modellvariante: Gleitendes Mittel (movingAverage)\n# YOUR CODE HERE\nraise NotImplementedError()",
    "tags": []
   },
   "outputs": [
    {
     "data": {
      "text/plain": [
       "[Parameter(path=inFile, values=mav.tif, type=Path, source=interFace),\n",
       " Parameter(path=outFile, values=mav_zco.png, type=Path, source=interFace),\n",
       " Parameter(path=oFormat, values=PNG, type=String, source=estimated),\n",
       " Parameter(path=pixelSize, values=0.0199999996, type=float, source=estimated),\n",
       " Parameter(path=interval, values=0.100000001, type=Vector<float>, source=interFace),\n",
       " Parameter(path=nClasses, values=, type=uint32, source=unknown),\n",
       " Parameter(path=palFile, values=standardPal.xml, type=Path, source=interFace),\n",
       " Parameter(path=legend, values=file=mav_zcoLegend.svg, type=ZColorLegend, source=estimated),\n",
       " Parameter(path=scalePal, values=0 8, type=ZColorScalePal, source=interFace),\n",
       " Parameter(path=offsetPal, values=, type=float, source=unknown),\n",
       " Parameter(path=zRange, values=, type=Array<float,2>, source=unknown),\n",
       " Parameter(path=limit, values=, type=GridLimit, source=unknown),\n",
       " Parameter(path=resampling, values=, type=ResamplingMethod, source=unknown),\n",
       " Parameter(path=band, values=0, type=String, source=internalDefault),\n",
       " Parameter(path=createAlpha, values=0, type=bool, source=internalDefault)]"
      ]
     },
     "execution_count": 49,
     "metadata": {},
     "output_type": "execute_result"
    }
   ],
   "source": [
    "# Berechnung und Visualisierung der Modellvariante: Gleitendes Mittel (movingAverage)\n",
    "# YOUR CODE HERE\n",
    "grd = Grid.Grid(inFile = odm, outFile = mav_mod)\n",
    "grd.gridSize = gitterweite\n",
    "grd.searchRadius = suchradius\n",
    "grd.neighbours = 8\n",
    "grd.selMode = opals.Types.SelectionMode.quadrant\n",
    "grd.interpolation = opals.Types.GridInterpolator.movingAverage\n",
    "grd.weightFunc = wf\n",
    "grd.run()\n",
    "\n",
    "Shade.Shade(inFile=mav_mod, outFile=mav_shd, sunPosition=[350,50],shading = opals.Types.ShadingMethod.tanaka).run()\n",
    "\n",
    "ZColor.ZColor(inFile=mav_mod, outFile=mav_zco, interval=0.1, palFile = palF, scalePal = scaleP).run()"
   ]
  },
  {
   "cell_type": "code",
   "execution_count": 50,
   "id": "2e1146bd-f55c-42fc-9611-23b9f3a559a8",
   "metadata": {
    "deletable": false,
    "nbgrader": {
     "cell_type": "code",
     "checksum": "476d7f284ff547d2d48d79440608f6b2",
     "grade": false,
     "grade_id": "cell-a3b6ccb8d5cd2581",
     "locked": false,
     "schema_version": 3,
     "solution": true,
     "task": false
    },
    "revert": "# Berechnung und Visualisierung der Modellvariante: Lineare Prädiktion (kriging)\n# YOUR CODE HERE\nraise NotImplementedError()",
    "tags": []
   },
   "outputs": [
    {
     "data": {
      "text/plain": [
       "[Parameter(path=inFile, values=kri.tif, type=Path, source=interFace),\n",
       " Parameter(path=outFile, values=kri_zco.png, type=Path, source=interFace),\n",
       " Parameter(path=oFormat, values=PNG, type=String, source=estimated),\n",
       " Parameter(path=pixelSize, values=0.0199999996, type=float, source=estimated),\n",
       " Parameter(path=interval, values=0.100000001, type=Vector<float>, source=interFace),\n",
       " Parameter(path=nClasses, values=, type=uint32, source=unknown),\n",
       " Parameter(path=palFile, values=standardPal.xml, type=Path, source=interFace),\n",
       " Parameter(path=legend, values=file=kri_zcoLegend.svg, type=ZColorLegend, source=estimated),\n",
       " Parameter(path=scalePal, values=0 8, type=ZColorScalePal, source=interFace),\n",
       " Parameter(path=offsetPal, values=, type=float, source=unknown),\n",
       " Parameter(path=zRange, values=, type=Array<float,2>, source=unknown),\n",
       " Parameter(path=limit, values=, type=GridLimit, source=unknown),\n",
       " Parameter(path=resampling, values=, type=ResamplingMethod, source=unknown),\n",
       " Parameter(path=band, values=0, type=String, source=internalDefault),\n",
       " Parameter(path=createAlpha, values=0, type=bool, source=internalDefault)]"
      ]
     },
     "execution_count": 50,
     "metadata": {},
     "output_type": "execute_result"
    }
   ],
   "source": [
    "# Berechnung und Visualisierung der Modellvariante: Lineare Prädiktion (kriging)\n",
    "# YOUR CODE HERE\n",
    "grd = Grid.Grid(inFile = odm, outFile = kri_mod)\n",
    "grd.gridSize = gitterweite\n",
    "grd.searchRadius = suchradius\n",
    "grd.neighbours = 39\n",
    "grd.selMode = opals.Types.SelectionMode.quadrant\n",
    "grd.interpolation = opals.Types.GridInterpolator.kriging\n",
    "grd.run()\n",
    "\n",
    "Shade.Shade(inFile=kri_mod, outFile=kri_shd, sunPosition=[350,50],shading = opals.Types.ShadingMethod.tanaka).run()\n",
    "\n",
    "ZColor.ZColor(inFile=kri_mod, outFile=kri_zco, interval=0.1, palFile = palF, scalePal = scaleP).run()"
   ]
  },
  {
   "cell_type": "code",
   "execution_count": 51,
   "id": "9f569368",
   "metadata": {
    "deletable": false,
    "editable": false,
    "nbgrader": {
     "cell_type": "code",
     "checksum": "45fd876bdd5a1277e853395aaee6a612",
     "grade": true,
     "grade_id": "p2_1_test0",
     "locked": true,
     "points": 1,
     "schema_version": 3,
     "solution": false,
     "task": false
    },
    "tags": []
   },
   "outputs": [
    {
     "name": "stdout",
     "output_type": "stream",
     "text": [
      "Alle Ergebnisdateien vorhanden.\n"
     ]
    }
   ],
   "source": [
    "# Sichtbare Überprüfungen\n",
    "assert exists(odm)\n",
    "assert exists(tin_mod)\n",
    "assert exists(mpl_mod)\n",
    "assert exists(mav_mod)\n",
    "assert exists(kri_mod)\n",
    "assert exists(tin_shd)\n",
    "assert exists(mpl_shd)\n",
    "assert exists(mav_shd)\n",
    "assert exists(kri_shd)\n",
    "assert exists(tin_zco)\n",
    "assert exists(mpl_zco)\n",
    "assert exists(mav_zco)\n",
    "assert exists(kri_zco)\n",
    "print('Alle Ergebnisdateien vorhanden.')"
   ]
  },
  {
   "cell_type": "code",
   "execution_count": 52,
   "id": "20af6e45",
   "metadata": {
    "deletable": false,
    "editable": false,
    "nbgrader": {
     "cell_type": "code",
     "checksum": "7e40d84c3d1a5f4adf7bdebe0367657f",
     "grade": true,
     "grade_id": "p2_1_test1",
     "locked": true,
     "points": 1,
     "schema_version": 3,
     "solution": false,
     "task": false
    },
    "tags": []
   },
   "outputs": [],
   "source": [
    "# Verborgene Überprüfungen 1 (delaunayTriangulation)"
   ]
  },
  {
   "cell_type": "code",
   "execution_count": 53,
   "id": "cb5970af",
   "metadata": {
    "deletable": false,
    "editable": false,
    "nbgrader": {
     "cell_type": "code",
     "checksum": "44e7fe4bbe1a52d85be8f47d9595a59e",
     "grade": true,
     "grade_id": "p2_1_test2",
     "locked": true,
     "points": 1,
     "schema_version": 3,
     "solution": false,
     "task": false
    },
    "tags": []
   },
   "outputs": [],
   "source": [
    "# Verborgene Überprüfungen 2 (movingPlanes)"
   ]
  },
  {
   "cell_type": "code",
   "execution_count": 54,
   "id": "c264c646",
   "metadata": {
    "deletable": false,
    "editable": false,
    "nbgrader": {
     "cell_type": "code",
     "checksum": "918e2cfd306a4e65392a338d31193f5f",
     "grade": true,
     "grade_id": "p2_1_test3",
     "locked": true,
     "points": 1,
     "schema_version": 3,
     "solution": false,
     "task": false
    },
    "tags": []
   },
   "outputs": [],
   "source": [
    "# Verborgene Überprüfungen 3 (movingAverage)"
   ]
  },
  {
   "cell_type": "code",
   "execution_count": 55,
   "id": "796805e5",
   "metadata": {
    "deletable": false,
    "editable": false,
    "nbgrader": {
     "cell_type": "code",
     "checksum": "ecfdcfa11d5cada8241418477d6c8370",
     "grade": true,
     "grade_id": "p2_1_test4",
     "locked": true,
     "points": 1,
     "schema_version": 3,
     "solution": false,
     "task": false
    },
    "tags": []
   },
   "outputs": [],
   "source": [
    "# Verborgene Überprüfungen 4 (kriging)"
   ]
  },
  {
   "cell_type": "markdown",
   "id": "c4dd3622-8a26-4ce9-8e4d-d3b537548f89",
   "metadata": {
    "deletable": false,
    "editable": false,
    "nbgrader": {
     "cell_type": "markdown",
     "checksum": "b4b629f0e57e60dd2ecad4bfbb6acf33",
     "grade": false,
     "grade_id": "cell-7a2194bb41eb787d",
     "locked": true,
     "schema_version": 3,
     "solution": false,
     "task": false
    },
    "tags": []
   },
   "source": [
    "### Visualisierung der Ergebnisse\n",
    "\n",
    "#### Delaunay Triangulierung\n",
    "![tin_shd.png](tin_shd.png)\n",
    "![tin_zco.png](tin_zco.png)\n",
    "\n",
    "#### Gleitende Schrägebene\n",
    "![mpl_shd.png](mpl_shd.png)\n",
    "![mpl_zco.png](mpl_zco.png)\n",
    "\n",
    "#### Gleitendes Mittel (mit inv. Distanzgewichtung)\n",
    "![mav_shd.png](mav_shd.png)\n",
    "![mav_zco.png](mav_zco.png)\n",
    "\n",
    "#### Lineare Prädiktion / Kriging\n",
    "![kri_shd.png](kri_shd.png)\n",
    "![kri_zco.png](kri_zco.png)\n",
    "\n",
    "\n"
   ]
  },
  {
   "cell_type": "markdown",
   "id": "9fcc3fd6-4886-408b-a6f0-ad11cbba4fef",
   "metadata": {
    "deletable": false,
    "editable": false,
    "nbgrader": {
     "cell_type": "markdown",
     "checksum": "fe053569d914ac1515ae95acab038e0c",
     "grade": false,
     "grade_id": "cell-09d6d2e44b6a692a",
     "locked": true,
     "schema_version": 3,
     "solution": false,
     "task": false
    },
    "tags": []
   },
   "source": [
    "#### Diskussion\n",
    "Interpretieren Sie die Ergebnisse und fassen Sie die wesentlichen Unterschiede und Eigenschaften der verwendeten Interpolationsmethoden in wenigen Sätzen zusammen. Sichworte:\n",
    "- Einfluss der Nachbarschaft\n",
    "- Stetigkeit der Höhen und Neigungen (Glattheit)\n",
    "- lokale vs globale Interpolationsmethoden"
   ]
  },
  {
   "cell_type": "markdown",
   "id": "6aa3c036-f7b4-4b31-b98e-b3f663a2406c",
   "metadata": {
    "deletable": false,
    "nbgrader": {
     "cell_type": "markdown",
     "checksum": "453464938fb926ae6bac1b4e3aacfb1a",
     "grade": true,
     "grade_id": "cell-d06730b0fb3eb3fa",
     "locked": false,
     "points": 2,
     "schema_version": 3,
     "solution": true,
     "task": false
    },
    "revert": "YOUR ANSWER HERE",
    "tags": []
   },
   "source": [
    "Besonders ausgeprägte Höhenunterschiede und somit große Steigungen weisen sowohl die Interpolation mittels Delaunay Triangulierung als auch die mittels Gleitendem Mittel (mit inverser Distanzgewichtung) auf. Das Gleitende Mittel hat dabei aber noch einen durchgehend stetigen Verlauf, während die Triangulierung bei größeren Ausreißern riesige Gradienten bekommen kann (großer Einfluss der Nachbarschaft).\n",
    "\n",
    "Stetig ist auch das Modell der globalen Kriging-Interpolation, wobei hier die Extrema deutlich abgeschwächt sind, was eine fast schon zu starke Glättung erzeugt.\n",
    "\n",
    "Eindeutig unstetig zeigt sich das Modell der Gleitenden Schrägebene. Das liegt jedoch an der Methode selbst. Die Höhenunterschiede sind etwas geringer als bei Delaunay und beim Gleitenden Mittel und es gibt sehr raue Stellen.\n",
    "\n",
    "Insgesamt würde ich in diesem Beispiel der Interpolation mittels Gleitendem Mittel die beste Note ausstellen, da sie das anschaulichste Geländemodell erzeugt, dass gleichzeitig stetig ist, aber auch die Maximalwerte gut darstellt."
   ]
  }
 ],
 "metadata": {
  "kernelspec": {
   "display_name": "Python 3 (ipykernel)",
   "language": "python",
   "name": "python3"
  },
  "language_info": {
   "codemirror_mode": {
    "name": "ipython",
    "version": 3
   },
   "file_extension": ".py",
   "mimetype": "text/x-python",
   "name": "python",
   "nbconvert_exporter": "python",
   "pygments_lexer": "ipython3",
   "version": "3.9.15"
  }
 },
 "nbformat": 4,
 "nbformat_minor": 5
}
