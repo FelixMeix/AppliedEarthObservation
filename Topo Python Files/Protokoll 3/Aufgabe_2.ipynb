{
 "cells": [
  {
   "cell_type": "markdown",
   "id": "0c82e15b",
   "metadata": {
    "deletable": false,
    "editable": false,
    "nbgrader": {
     "cell_type": "markdown",
     "checksum": "8ca8ecc9e03a30852861224a0e776fe2",
     "grade": false,
     "grade_id": "p3_titel",
     "locked": true,
     "schema_version": 3,
     "solution": false,
     "task": false
    }
   },
   "source": [
    "## Topographische und hydrographische Modelle (120.109)\n",
    "\n",
    "### Protokoll 3"
   ]
  },
  {
   "cell_type": "markdown",
   "id": "26376567",
   "metadata": {
    "deletable": false,
    "editable": false,
    "nbgrader": {
     "cell_type": "markdown",
     "checksum": "ce53581bc70c11e1c8db45f7e0ef6d53",
     "grade": false,
     "grade_id": "p3_aufgabe_2a",
     "locked": true,
     "schema_version": 3,
     "solution": false,
     "task": false
    }
   },
   "source": [
    "#### Aufgabe 2: Photoathymetrie (10 Punkte)\n",
    "\n",
    "In der Aufgabe 2 sollen Sie ein DGM-W für den selben Ausschnitt mittels Photobathymetrie ableiten. Gegeben sind dazu vier Punktwolken *pho_\\*.laz*, die mittels Dense Image Matching jeweils aus vier überlappenden UAV-Luftbildern (20-23, 21-24, 22-25, 23-26) abeleitet wurden. In einem Vorverarbeitungsschritt wurden aus den jeweiligen Gesampunktwolken die Bodenpunkte extrahiert. Für jeden der vier Bildblöcke liegt auch eine Textdatei mit den Projektionszentren der jeweiligen Bilder vor (*eor_\\*.txt*). Für die Orientierungsdateien liegt auch eine Formatdefinitionsdatei vor (*photoBathyOriFmt.xml*). Alle genannten Dateien stehen wie bereits in Aufgabe 1 im Verzeichnis *~/shared/Daten/Protokoll_3* bereit.\n",
    "\n",
    "Importieren Sie zunächst die Punktwolkendateien mit dem OPALS Modul [Import](https://opals.geo.tuwien.ac.at/html/stable/ModuleImport.html) und speichern Sie diese im aktuellen Verzeichnis unter dem selben Namen mit der (Standard)Endung *.odm*. Führen Sie danach die Refraktionskorrektur mit dem Modul [Snellius](https://opals.geo.tuwien.ac.at/html/stable/ModuleSnellius.html) durch. Dazu ist neben der Angabe des Refraktionsindex (*1.33*) und der Wasserspiegellage (*260.10*) für jede Punktwolke die korrespondierende Bildorientierungsdatei sowie die zugehörige Formatdefinition erforderlich. Speichern Sie die Ergebnisse für jede Punktwolke im aktuellen Verzeichnis in einem neuen ODM mit dem Suffix *_refCorr* (z.B. *pho_020_021_022_023_refCorr.odm*). Exportieren Sie anschließend alle refraktionskorrigierten ODMs in einen Gesamt-ODM und speichern Sie diesen im aktuellen Verzeichnis unter dem Dateinamen *photobathy_refCorr.odm*.\n",
    "\n",
    "Interpolieren Sie schließlich ein DGM-W mit dem Modul [Grid](https://opals.geo.tuwien.ac.at/html/stable/ModuleSnellius.html). Verwenden Sie die selben Interpolationsparameter wie für das Laserbathymetrie DGM-W und speichern Sie das Rastermodell unter dem Dateinamen *photobathy_dgmw.tif*. Erzeugen Sie analog zu Aufgabe 1:\n",
    "- eine DGM-W Schummerung: *photobathy_dgmw_shd.tif*\n",
    "- eine DGM-W Höhenkodierung: *photobathy_dgmw_zco.tif*\n",
    "- ein Wassertiefenmodell: *photobathy_wtiefe.tif*\n",
    "- eine Höhenkodierung des Wassertiefenmodells: *photobathy_wtiefe_zco.tif*\n",
    "- Höhenlinien des Wassertiefenmodells: *photobathy_wtiefe_iso.shp*"
   ]
  },
  {
   "cell_type": "code",
   "execution_count": 1,
   "id": "da9b8e9c",
   "metadata": {
    "deletable": false,
    "editable": false,
    "nbgrader": {
     "cell_type": "code",
     "checksum": "f4ffaefcd6ee97a6428af63a742eb2d8",
     "grade": false,
     "grade_id": "p3_2a_imports",
     "locked": true,
     "schema_version": 3,
     "solution": false,
     "task": false
    }
   },
   "outputs": [],
   "source": [
    "#\n",
    "# Import Statements\n",
    "#\n",
    "import rasterio\n",
    "import shapely\n",
    "import fiona\n",
    "import os\n",
    "\n",
    "###################################################################\n",
    "# Pfad zum Datenverzeichnis\n",
    "###################################################################\n",
    "datadir = os.path.join( os.getenv('HOME'), 'shared', 'Daten', 'Protokoll_3')"
   ]
  },
  {
   "cell_type": "code",
   "execution_count": 2,
   "id": "852efcbe-58bf-4fd8-952b-d2cc93557ccd",
   "metadata": {
    "deletable": false,
    "editable": false,
    "nbgrader": {
     "cell_type": "code",
     "checksum": "b50524f551b8a10524dbbe76892df043",
     "grade": false,
     "grade_id": "cell-3008221b0e80f681",
     "locked": true,
     "schema_version": 3,
     "solution": false,
     "task": false
    },
    "tags": []
   },
   "outputs": [],
   "source": [
    "###################################################################\n",
    "# Sicherstellung der Nicht-Existenz der Ergbnisdateien\n",
    "###################################################################\n",
    "!rm -f *.odm\n",
    "!rm -f *.svg\n",
    "!rm -f *.log\n",
    "!rm -f photobathy_wtiefe*\n",
    "!rm -f photobathy_dgmw*\n",
    "!rm -f opalsLog.xml"
   ]
  },
  {
   "cell_type": "code",
   "execution_count": 3,
   "id": "2da64654",
   "metadata": {
    "deletable": false,
    "nbgrader": {
     "cell_type": "code",
     "checksum": "48cca38a2cb0504b576d6f3946aef577",
     "grade": false,
     "grade_id": "p3_2a_code",
     "locked": false,
     "schema_version": 3,
     "solution": true,
     "task": false
    },
    "revert": "# YOUR CODE HERE\nraise NotImplementedError()"
   },
   "outputs": [
    {
     "name": "stderr",
     "output_type": "stream",
     "text": [
      "IOStream.flush timed out\n"
     ]
    },
    {
     "data": {
      "text/plain": [
       "[Parameter(path=inFile, values=photobathy_wdepth.tif, type=Path, source=interFace),\n",
       " Parameter(path=outFile, values=photobathy_wtiefe_iso.shp, type=Path, source=interFace),\n",
       " Parameter(path=oFormat, values=shape, type=String, source=estimated),\n",
       " Parameter(path=band, values=0, type=String, source=internalDefault),\n",
       " Parameter(path=interval, values=0.10000000000000001, type=double, source=interFace),\n",
       " Parameter(path=levels, values=, type=Vector<double>, source=unknown),\n",
       " Parameter(path=zRange, values=, type=Array<double,2>, source=unknown),\n",
       " Parameter(path=thinOut, values=0.01, type=double, source=internalDefault),\n",
       " Parameter(path=closeMin, values=3, type=double, source=interFace),\n",
       " Parameter(path=minLength, values=2, type=double, source=interFace),\n",
       " Parameter(path=densification, values=1, type=bool, source=internalDefault)]"
      ]
     },
     "execution_count": 3,
     "metadata": {},
     "output_type": "execute_result"
    }
   ],
   "source": [
    "# weitere Modulimporte\n",
    "import opals\n",
    "from opals import Import, Snellius, AddInfo, Grid, Shade, ZColor, Algebra, Isolines, Translate\n",
    "from os.path import join\n",
    "\n",
    "#Dateiennamen\n",
    "dataset1 = 'pho_020_021_022_023'\n",
    "dataset2 = 'pho_021_022_023_024'\n",
    "dataset3 = 'pho_022_023_024_025'\n",
    "dataset4 = 'pho_023_024_025_026'\n",
    "dataset = 'photobathy'\n",
    "lazF1 = join(datadir, dataset1 + '.laz')\n",
    "lazF2 = join(datadir, dataset2 + '.laz')\n",
    "lazF3 = join(datadir, dataset3 + '.laz')\n",
    "lazF4 = join(datadir, dataset4 + '.laz')\n",
    "odmF1 = dataset1 + '.odm'\n",
    "odmF2 = dataset2 + '.odm'\n",
    "odmF3 = dataset3 + '.odm'\n",
    "odmF4 = dataset4 + '.odm'\n",
    "odmF_corr1 = 'pho_020_021_022_023' + '_refCorr.odm'\n",
    "odmF_corr2 = 'pho_021_022_023_024' + '_refCorr.odm'\n",
    "odmF_corr3 = 'pho_022_023_024_025' + '_refCorr.odm'\n",
    "odmF_corr4 = 'pho_023_024_025_026' + '_refCorr.odm'\n",
    "odmF_corr = 'photobathy_refCorr.odm'\n",
    "\n",
    "eorF1 = join(datadir, 'eor_020_021_022_023.txt')\n",
    "eorF2 = join(datadir, 'eor_021_022_023_024.txt')\n",
    "eorF3 = join(datadir, 'eor_022_023_024_025.txt')\n",
    "eorF4 = join(datadir, 'eor_023_024_025_026.txt')\n",
    "eofF = join(datadir, 'photoBathyOriFmt.xml')\n",
    "\n",
    "dgmwF = dataset + '_dgmw.tif'\n",
    "wdeF = dataset + '_wdepth.tif'\n",
    "wlev = 260.10\n",
    "\n",
    "# Datenimport\n",
    "Import.Import(inFile = lazF1, outFile = odmF1).run()\n",
    "Import.Import(inFile = lazF2, outFile = odmF2).run()\n",
    "Import.Import(inFile = lazF3, outFile = odmF3).run()\n",
    "Import.Import(inFile = lazF4, outFile = odmF4).run()\n",
    "\n",
    "# Refraktionskorrektur\n",
    "Snellius.Snellius(inFile = odmF1, outFile = odmF_corr1, refractiveIndex = 1.33, refModel = str(wlev), oriFile = eorF1, oriFormat = eofF).run()\n",
    "Snellius.Snellius(inFile = odmF2, outFile = odmF_corr2, refractiveIndex = 1.33, refModel = str(wlev), oriFile = eorF2, oriFormat = eofF).run()\n",
    "Snellius.Snellius(inFile = odmF3, outFile = odmF_corr3, refractiveIndex = 1.33, refModel = str(wlev), oriFile = eorF3, oriFormat = eofF).run()\n",
    "Snellius.Snellius(inFile = odmF4, outFile = odmF_corr4, refractiveIndex = 1.33, refModel = str(wlev), oriFile = eorF4, oriFormat = eofF).run()\n",
    "\n",
    "#Zusammenfügen der odms\n",
    "Import.Import(inFile = [odmF_corr1, odmF_corr2, odmF_corr3, odmF_corr4], outFile = odmF_corr).run()\n",
    "\n",
    "# DGM-W interpolieren\n",
    "Grid.Grid(inFile = odmF_corr, outFile = dgmwF, interpolation = opals.Types.GridInterpolator.movingAverage, gridSize = 0.1, neighbours = 16, searchRadius = 2, selMode = opals.Types.SelectionMode.quadrant).run()\n",
    "\n",
    "\n",
    "# Visualisierung des DGMW\n",
    "Shade.Shade(inFile = dgmwF, outFile = 'photobathy_dgmw_shd.tif', sunPosition=[350,50]).run()\n",
    "palF = 'standardPal.xml'\n",
    "scaleP = '256 270'\n",
    "ZColor.ZColor(inFile = dgmwF, outFile = 'photobathy_dgmw_zco.tif', interval = 0.5, palFile = palF, scalePal=scaleP).run()\n",
    "\n",
    "\n",
    "# Wassertiefenmodell\n",
    "Algebra.Algebra(inFile = dgmwF, formula = 'r[0] < 260.10 ? 260.10 - r[0] : invalid', outFile = wdeF).run()\n",
    "\n",
    "#Visualisierung Wassertiefenmodell\n",
    "palF = 'colorBrewer_SpectralPal.xml'\n",
    "scaleP = '0 1.5'\n",
    "ZColor.ZColor(inFile=wdeF, outFile='photobathy_wtiefe_zco.tif', palFile=palF, scalePal=scaleP, interval=0.1).run()\n",
    "Isolines.Isolines(inFile=wdeF, outFile='photobathy_wtiefe_iso.shp', interval=0.1, minLength = 2, closeMin = 3).run()"
   ]
  },
  {
   "cell_type": "code",
   "execution_count": 4,
   "id": "b6529959",
   "metadata": {
    "deletable": false,
    "editable": false,
    "nbgrader": {
     "cell_type": "code",
     "checksum": "f088d3c27972a314ef8fafec753d0aed",
     "grade": true,
     "grade_id": "p3_2a_test0",
     "locked": true,
     "points": 1,
     "schema_version": 3,
     "solution": false,
     "task": false
    }
   },
   "outputs": [],
   "source": [
    "# Sichtbare Überprüfungen\n",
    "assert os.path.exists('photobathy_refCorr.odm')\n",
    "#\n",
    "assert 'Import' in globals()\n",
    "assert 'Snellius' in globals()\n",
    "assert 'Grid' in globals()\n",
    "assert 'Shade' in globals()\n",
    "assert 'ZColor' in globals()\n",
    "assert 'Algebra' in globals()\n",
    "assert 'Isolines' in globals()"
   ]
  },
  {
   "cell_type": "code",
   "execution_count": 5,
   "id": "2c841ad3",
   "metadata": {
    "deletable": false,
    "editable": false,
    "nbgrader": {
     "cell_type": "code",
     "checksum": "717b66461fdfe2e4147f38fb3e6a8dda",
     "grade": true,
     "grade_id": "p3_2a_test1",
     "locked": true,
     "points": 1,
     "schema_version": 3,
     "solution": false,
     "task": false
    }
   },
   "outputs": [],
   "source": [
    "# Verborgene Überprüfungen 1 (DGM-W, photobathy_dgmw.tif)"
   ]
  },
  {
   "cell_type": "code",
   "execution_count": 6,
   "id": "0241b44b",
   "metadata": {
    "deletable": false,
    "editable": false,
    "nbgrader": {
     "cell_type": "code",
     "checksum": "94df76367492275f77f40f8cacb8dab1",
     "grade": true,
     "grade_id": "p3_2a_test2",
     "locked": true,
     "points": 1,
     "schema_version": 3,
     "solution": false,
     "task": false
    }
   },
   "outputs": [],
   "source": [
    "# Verborgene Überprüfungen 2 (photobathy_dgmw_zco.tif)"
   ]
  },
  {
   "cell_type": "code",
   "execution_count": 7,
   "id": "a9fa0cf0",
   "metadata": {
    "deletable": false,
    "editable": false,
    "nbgrader": {
     "cell_type": "code",
     "checksum": "d7692170e9bbe4070a4b85918f953b89",
     "grade": true,
     "grade_id": "p3_2a_test3",
     "locked": true,
     "points": 1,
     "schema_version": 3,
     "solution": false,
     "task": false
    }
   },
   "outputs": [],
   "source": [
    "# Verborgene Überprüfungen 3 (photobathy_dgmw_shd.tif)"
   ]
  },
  {
   "cell_type": "code",
   "execution_count": 8,
   "id": "0cc047a8-7656-47fc-b3e8-941feb3ab8ed",
   "metadata": {
    "deletable": false,
    "editable": false,
    "nbgrader": {
     "cell_type": "code",
     "checksum": "e0f7308d11311b5eb340ed4db1367483",
     "grade": true,
     "grade_id": "cell-e8eafce60a76d920",
     "locked": true,
     "points": 1,
     "schema_version": 3,
     "solution": false,
     "task": false
    },
    "tags": []
   },
   "outputs": [],
   "source": [
    "# Verborgene Überprüfungen 4 (Wassertiefenmodell, photobathy_wtiefe.tif)"
   ]
  },
  {
   "cell_type": "code",
   "execution_count": 9,
   "id": "ca5f227e-7ca6-4438-8470-56d106259d3c",
   "metadata": {
    "deletable": false,
    "editable": false,
    "nbgrader": {
     "cell_type": "code",
     "checksum": "252f016ede3164eb4099f262118dbaa7",
     "grade": true,
     "grade_id": "cell-3c5937aeb394b68b",
     "locked": true,
     "points": 1,
     "schema_version": 3,
     "solution": false,
     "task": false
    },
    "tags": []
   },
   "outputs": [],
   "source": [
    "# Verborgene Überprüfungen 5 (photobathy_wtiefe_iso.shp, photobathy_wtiefe_zco.tif)"
   ]
  },
  {
   "cell_type": "code",
   "execution_count": 10,
   "id": "a4117e1c-b7c1-4092-bbdc-953cd743e969",
   "metadata": {
    "deletable": false,
    "editable": false,
    "nbgrader": {
     "cell_type": "code",
     "checksum": "f583f1eafa1bf226d7af6b6ef2761db6",
     "grade": true,
     "grade_id": "cell-95c44b4fe2588eeb",
     "locked": true,
     "points": 1,
     "schema_version": 3,
     "solution": false,
     "task": false
    },
    "tags": []
   },
   "outputs": [],
   "source": [
    "# Verborgene Überprüfungen 6  (Refraktionskorrektur Datei pho_020_021_022_023.odm, Min/Max)"
   ]
  },
  {
   "cell_type": "code",
   "execution_count": 11,
   "id": "06fedd38-8349-4f8a-bfe0-e5883fbfaeb7",
   "metadata": {
    "deletable": false,
    "editable": false,
    "nbgrader": {
     "cell_type": "code",
     "checksum": "e7abc47f39ab29e08d39aeeae54edbad",
     "grade": true,
     "grade_id": "cell-a14133ba64727946",
     "locked": true,
     "points": 1,
     "schema_version": 3,
     "solution": false,
     "task": false
    },
    "tags": []
   },
   "outputs": [],
   "source": [
    "# Verborgene Überprüfungen 7 (Refraktionskorrektur Datei pho_020_021_022_023.odm, Min/Max)"
   ]
  },
  {
   "cell_type": "markdown",
   "id": "e7156c40-582d-4721-89d2-8a1ca8c8ae01",
   "metadata": {
    "deletable": false,
    "editable": false,
    "nbgrader": {
     "cell_type": "markdown",
     "checksum": "bf31b92ca4426837670b6f5c5af5f816",
     "grade": false,
     "grade_id": "cell-ce51b217dc8af92f",
     "locked": true,
     "schema_version": 3,
     "solution": false,
     "task": false
    },
    "tags": []
   },
   "source": [
    "### Aufgabe 2b\n",
    "\n",
    "Beschreiben Sie in ca 100-200 Worten kurz das Grundkonzept der Photobathymetrie (Mehrmedienphotogrammetrie) mit Fokus auf Refraktionskorrektur. Gehen Sie dabei auf die Strahlablenkung an der Luft-Wasser-Grenzschicht ein und diskutieren Sie insbesondere die generelle Richtung der Z-Korrektur in der Photobathymetrie."
   ]
  },
  {
   "cell_type": "markdown",
   "id": "2d37af34",
   "metadata": {
    "deletable": false,
    "nbgrader": {
     "cell_type": "markdown",
     "checksum": "7332ff3df6aee5c07a22ea8bc699c3de",
     "grade": true,
     "grade_id": "p3_aufgabe_2b",
     "locked": false,
     "points": 3,
     "schema_version": 3,
     "solution": true,
     "task": false
    },
    "revert": "YOUR ANSWER HERE",
    "tags": []
   },
   "source": [
    "Die Mehrmedienphotogrammetrie ist wie die Laserbathymetrie eine Methode, um Gewässertopografien zu erfassen. Sie ist jedoch anders als letztere eine passive Methode und nutzt die optische Strahlung, die auf und unter dem Wasser in Richtung Kamera reflektiert wird. \n",
    "\n",
    "Auch hier gibt es Probleme mit der Brechung von Licht, denn auch das reflektierte Licht unterliegt den Snellius’schen Brechungsgesetzen an der Wasser-Luft-Grenzschicht. Der Gewässerboden wird tendenziell zu hoch geschätzt, also die Gewässer scheinen ohne Refraktionskorrektur seichter zu sein als sie es tatsächlich sind. Ein weiteres Problem der Photobathymetrie ist, dass sie bei tieferen Gewässern nicht so gut eindringen kann wie das der Laser könnte. Die reine Sonneneinstrahlung ist dafür etwas zu schwach."
   ]
  }
 ],
 "metadata": {
  "kernelspec": {
   "display_name": "Python 3 (ipykernel)",
   "language": "python",
   "name": "python3"
  },
  "language_info": {
   "codemirror_mode": {
    "name": "ipython",
    "version": 3
   },
   "file_extension": ".py",
   "mimetype": "text/x-python",
   "name": "python",
   "nbconvert_exporter": "python",
   "pygments_lexer": "ipython3",
   "version": "3.9.15"
  }
 },
 "nbformat": 4,
 "nbformat_minor": 5
}
