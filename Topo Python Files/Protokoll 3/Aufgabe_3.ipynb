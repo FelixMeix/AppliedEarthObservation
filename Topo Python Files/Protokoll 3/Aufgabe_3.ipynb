{
 "cells": [
  {
   "cell_type": "markdown",
   "id": "0c82e15b",
   "metadata": {
    "deletable": false,
    "editable": false,
    "nbgrader": {
     "cell_type": "markdown",
     "checksum": "8ca8ecc9e03a30852861224a0e776fe2",
     "grade": false,
     "grade_id": "p3_titel",
     "locked": true,
     "schema_version": 3,
     "solution": false,
     "task": false
    }
   },
   "source": [
    "## Topographische und hydrographische Modelle (120.109)\n",
    "\n",
    "### Protokoll 3"
   ]
  },
  {
   "cell_type": "markdown",
   "id": "26376567",
   "metadata": {
    "deletable": false,
    "editable": false,
    "nbgrader": {
     "cell_type": "markdown",
     "checksum": "65df48702c6f253642c2679641aa76be",
     "grade": false,
     "grade_id": "p3_aufgabe_3a",
     "locked": true,
     "schema_version": 3,
     "solution": false,
     "task": false
    }
   },
   "source": [
    "#### Aufgabe 3 (4 Punkte)\n",
    "\n",
    "Erstellen Sie in QGIS jeweils eine Wassertiefenkarte für die Datensätze aus Aufgabe 1 (Laserbathymetrie) und Aufgabe 2 (Photobathymetrie)\n",
    "\n",
    "- Verwenden Sie als Grundlage das bereitgestellte Orthophoto (~/shared/Daten/Protokoll_3/orthophoto.tif)\n",
    "- Verwenden Sie für die Visualisierung und Erstellung Ihrer Karten die mit OPALS erstellten Tiefenlinien (*...wtiefe_iso.shp*) und \n",
    "- und die farbkodierten Tiefenstufenkarten (*..._wtiefe_zco.tif*) \n",
    "- Fügen sie im Drucklayout Titel, die entsprechende Farblegende und einen Maßstabsrahmen (Grid wie in Protokoll 1 und 2) hinzu.\n",
    "- Speichern Sie Ihre erstellten Karten als *wassertiefenkarte_laser.pdf* bzw. *wassertiefenkarte_photo.pdf*  ab. \n",
    "\n",
    "Vergessen Sie nicht darauf, das Koordinatensystem vor dem Datenimport in QGIS einzustellen (ETRS89/UTM33, EPSG Code: 25833)."
   ]
  },
  {
   "cell_type": "code",
   "execution_count": null,
   "id": "2da64654",
   "metadata": {
    "deletable": false,
    "editable": false,
    "nbgrader": {
     "cell_type": "code",
     "checksum": "e2d5880a645bcd9980a0a8682a29c32f",
     "grade": true,
     "grade_id": "p3_3a_test1",
     "locked": true,
     "points": 1,
     "schema_version": 3,
     "solution": false,
     "task": false
    }
   },
   "outputs": [],
   "source": [
    "# Sichtbare Überprüfungen\n",
    "from os.path import exists\n",
    "assert exists('wassertiefenkarte_laser.pdf')\n",
    "assert exists('wassertiefenkarte_photo.pdf')"
   ]
  },
  {
   "cell_type": "markdown",
   "id": "77d373da-9706-4133-a639-70f71264cd99",
   "metadata": {
    "deletable": false,
    "editable": false,
    "nbgrader": {
     "cell_type": "markdown",
     "checksum": "61acddc7f6c3eb75bf1faf84e7dc0b82",
     "grade": false,
     "grade_id": "cell-d7ae9ed8c95cdbc1",
     "locked": true,
     "schema_version": 3,
     "solution": false,
     "task": false
    },
    "tags": []
   },
   "source": [
    "### Manuelle Überprüfung des Karteninhalts\n",
    "- Überprüfung der Wassertiefenkarten (Farbkodierung, Isolinien)\n",
    "- Überprüfung von Titel, Legende und Kartenrahmen"
   ]
  },
  {
   "cell_type": "markdown",
   "id": "f25fccdf",
   "metadata": {
    "deletable": false,
    "editable": false,
    "nbgrader": {
     "cell_type": "markdown",
     "checksum": "2f4305b90df6d53b844dc26b3f5df7b2",
     "grade": false,
     "grade_id": "p3_3a_test2",
     "locked": true,
     "points": 2,
     "schema_version": 3,
     "solution": false,
     "task": true
    }
   },
   "source": []
  },
  {
   "cell_type": "markdown",
   "id": "471d1ff6-fe7d-4074-98a8-597f93209ca5",
   "metadata": {
    "deletable": false,
    "editable": false,
    "nbgrader": {
     "cell_type": "markdown",
     "checksum": "67d9da0a66910ed715dae64bcfebfc7c",
     "grade": false,
     "grade_id": "cell-1800aa52a4aad642",
     "locked": true,
     "schema_version": 3,
     "solution": false,
     "task": false
    },
    "tags": []
   },
   "source": [
    "### Analyse\n",
    "\n",
    "Analysieren Sie die Unterschiede der beiden Tiefenkarten. Welches der beiden Modelle liefert konsistentere Ergebnisse? Wo stimmen die beiden Modelle gut überein, wo weniger gut? Was könnten Gründe für Abweichungen sein?"
   ]
  },
  {
   "cell_type": "markdown",
   "id": "2d37af34",
   "metadata": {
    "deletable": false,
    "nbgrader": {
     "cell_type": "markdown",
     "checksum": "429916cf556536a63b22429c089a795b",
     "grade": true,
     "grade_id": "p3_aufgabe_3b",
     "locked": false,
     "points": 2,
     "schema_version": 3,
     "solution": true,
     "task": false
    },
    "revert": "YOUR ANSWER HERE",
    "tags": []
   },
   "source": [
    "Die konsistenteren Ergebnisse liefert eindeutig die Photobathymetrie. Die Auswertung zeigt sehr glatte Übergänge und realistischere Wassertiefen für einen Fluss dieser Größe als es die der Laserbathymetrie tut. Bei letzterer scheint die Pielach an der tiefsten Stelle nicht einmal einen Meter tief zu sein. Außerdem erscheint der Gewässerboden sehr löchrig ohne geglättete Übergänge, was für ein Fließgewässer ungewöhnlich wäre.\n",
    "\n",
    "Trotzdem gibt es auch Gemeinsamkeiten. Die innere Schotterbank wird z.B. auf beiden Karten sehr ähnlich dargestellt und auch der grundsätzliche Verlauf des Flusses inkl. der Positionen der tiefsten Stellen wird sowohl photo- als auch laserbathymetrisch gleichermaßen ermittelt.\n",
    "\n",
    "Die Gründe für die Abweichungen der Laserbathymetrie bei der Wassertiefe könnten einerseits ein schlechtes Durchdringen des Wassers durch den Laserstrahl beinhalten (wobei normalerweise der Laser sogar tiefer eindringt als das Sonnenlicht reflektiert wird), andererseits könnte die schlechtere Lagegenauigkeit der Laservermessung dazu geführt haben, dass schmale tiefe Rinnen, wie sie in der gegebenen Schlinge der Pielach vorkommen, nicht ausreichend genau berechnet werden können bzw. durch Unsicherheitsstatistik ausgeflacht werden. Schließlich könnte auch der Umstand eine Rolle spielen, dass Photobathymetrie deutlich kostengünstiger und einfacher durchzuführen ist und deshalb häufigere und umfassendere Befliegungen stattfinden können, als dies beim Laserscanning finanzierbar wäre. Das führt dazu, dass deutlich dichtere Punktewolken aus der Photobathymetrie entstehen, die wiederum eine genauere Rekonstruktion der Topografie erlauben."
   ]
  },
  {
   "cell_type": "markdown",
   "id": "c056cb4d-a2d6-41a6-9dcd-4d12a9640cab",
   "metadata": {
    "deletable": false,
    "editable": false,
    "nbgrader": {
     "cell_type": "markdown",
     "checksum": "e292c9b9454c96432417731c44ad9987",
     "grade": false,
     "grade_id": "cell-8ea2f70e1122d965",
     "locked": true,
     "schema_version": 3,
     "solution": false,
     "task": false
    },
    "tags": []
   },
   "source": [
    "#### Bonusaufgabe\n",
    "Erstellen Sie eine Karte mit den Differenzen der aus Laser- bzw. Photobathymetrie ermittelten Wassertiefen und diskutieren Sie die Abweichungen in kurzen Worten. Je nach Qualität der Abbildung und Antwort werden bis zu 2 Bonuspunkte vergeben."
   ]
  },
  {
   "cell_type": "markdown",
   "id": "ac7b4565-3534-4ec1-b642-abfadde718a0",
   "metadata": {
    "deletable": false,
    "nbgrader": {
     "cell_type": "markdown",
     "checksum": "652fb2be83555df7bf47198f940d0fca",
     "grade": true,
     "grade_id": "cell-bcde4579051cb104",
     "locked": false,
     "points": 0,
     "schema_version": 3,
     "solution": true,
     "task": false
    },
    "revert": "YOUR ANSWER HERE",
    "tags": []
   },
   "source": [
    "YOUR ANSWER HERE"
   ]
  },
  {
   "cell_type": "markdown",
   "id": "30087963-149d-4eae-8d86-21a403144bcb",
   "metadata": {
    "deletable": false,
    "editable": false,
    "nbgrader": {
     "cell_type": "markdown",
     "checksum": "dc180b57cc610c0cad6bc5896b157848",
     "grade": false,
     "grade_id": "cell-d1d86cf78acebb0c",
     "locked": true,
     "schema_version": 3,
     "solution": false,
     "task": false
    },
    "tags": []
   },
   "source": [
    "## !!! Aufräumen vor dem Abggeben !!!\n",
    "\n",
    "Bevor Sie Protokoll_3 (via Submit) abgeben, stellen Sie sicher, dass alle Zwischen- und Resultatdateien ausgenommen der in QGIS erstellten PDF-Karten entfernt wurden. Führen Sie dazu die Zellen *Sicherstellung der Nicht-Existenz der Ergbnisdateien* in Aufgabe 1 und 2 aus. Im (Protokoll_3) Verzeichnis sollten sich dann folgende Dateien befinden:\n",
    "\n",
    "    Aufgabe_1.ipynb\n",
    "    Aufgabe_2.ipynb\n",
    "    Aufgabe_3.ipynb\n",
    "    opals.cfg\n",
    "    pcl-laserbathy.png\n",
    "    pcl-photobathy.png\n",
    "    wassertiefenkarte_laser.pdf\n",
    "    wassertiefenkarte_photo.pdf\n"
   ]
  }
 ],
 "metadata": {
  "kernelspec": {
   "display_name": "Python 3 (ipykernel)",
   "language": "python",
   "name": "python3"
  },
  "language_info": {
   "codemirror_mode": {
    "name": "ipython",
    "version": 3
   },
   "file_extension": ".py",
   "mimetype": "text/x-python",
   "name": "python",
   "nbconvert_exporter": "python",
   "pygments_lexer": "ipython3",
   "version": "3.9.15"
  }
 },
 "nbformat": 4,
 "nbformat_minor": 5
}
