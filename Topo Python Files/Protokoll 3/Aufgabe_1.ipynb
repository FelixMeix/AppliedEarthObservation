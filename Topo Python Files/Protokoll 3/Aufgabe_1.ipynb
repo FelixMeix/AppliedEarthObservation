{
 "cells": [
  {
   "cell_type": "markdown",
   "id": "0c82e15b",
   "metadata": {
    "deletable": false,
    "editable": false,
    "nbgrader": {
     "cell_type": "markdown",
     "checksum": "8ca8ecc9e03a30852861224a0e776fe2",
     "grade": false,
     "grade_id": "p3_titel",
     "locked": true,
     "schema_version": 3,
     "solution": false,
     "task": false
    }
   },
   "source": [
    "## Topographische und hydrographische Modelle (120.109)\n",
    "\n",
    "### Protokoll 3"
   ]
  },
  {
   "cell_type": "markdown",
   "id": "8679660d-8f1c-4511-9eed-eb23db2e4567",
   "metadata": {
    "deletable": false,
    "editable": false,
    "nbgrader": {
     "cell_type": "markdown",
     "checksum": "b7c6899c5614ff7ac3b6fb6030b5de0d",
     "grade": false,
     "grade_id": "cell-1ea692682e2ff683",
     "locked": true,
     "schema_version": 3,
     "solution": false,
     "task": false
    },
    "tags": []
   },
   "source": [
    "### Präambel\n",
    "\n",
    "Fügen Sie Ihren Code bzw. ihre Antworten an den Stellen ein, die mit `YOUR CODE HERE` oder \\\"YOUR ANSWER HERE\\\" gekennzeichnet sind. **Wichtig**: Bevor Sie die Aufgabe abgeben, stellen Sie sicher, dass die `raise NotImplementedError()` Zeilen aus Ihrem Code entfernt wurden, und dass Ihr Code fehlerlos durchläuft. Starten Sie dazu den Kernel neu und führen Sie alle Zellen aus (Doppelpfeilsymbol in der Menüleiste). Löschen Sie vor der Abgabe alle Zwischen- und Ergebnisdateien außer die in QGIS erstellten PDF-Karten (siehe Hinweis bei Aufgabe 3)."
   ]
  },
  {
   "cell_type": "markdown",
   "id": "26376567",
   "metadata": {
    "deletable": false,
    "editable": false,
    "nbgrader": {
     "cell_type": "markdown",
     "checksum": "d3dc22e51baf2c8863c79a679c1181f9",
     "grade": false,
     "grade_id": "p3_aufgabe_1a",
     "locked": true,
     "schema_version": 3,
     "solution": false,
     "task": false
    }
   },
   "source": [
    "#### Aufgabe 1: Laserbathymetrie (10 Punkte)\n",
    "Gegeben ist die unkorrigierte 3D Punktwolke (*laserbathy.laz*) einer topo-bathymetrischen UAV-Laserscanning Befliegung eines Bereiches der Pielach zwischen Loosdorf und Melk (NÖ), die zugehörige Flugtrajektorie (*trajectory.txt*) samt Formatbeschreibungsdatei (*trajectory.xml*) sowie die mittlere Wasserspeigelhöhe im Untersuchungsgebiet von 260.10 m. Die Dateien befinden sich im Verzeichnis *~/shared/Daten/Protokoll_3*. Die Punktwolke ist bereits klassifiziert (gespeichert in den Attributen *Classification* und *UserData*) gemäß folgender Klasseneinteilung:\n",
    "\n",
    "| ID | Beschreibung |\n",
    "|:---|:-------------|\n",
    "| 0  | nicht klassifiziert  |\n",
    "| 2  | Bodenpunkt (über und unter Wasser)  |\n",
    "| 3  | niedrige Vegetation |\n",
    "| 4  | mittlere Vegetation |\n",
    "| 5  | hohe Vegetation |\n",
    "| 9  | Wasserkörper |\n",
    "\n",
    "Sowohl die Punktwolke (x, y, z + Attribute) als auch die Trajektorie (x, y, z, roll, pitch, yaw) ist zeitgestempelt, sodass für jeden Laserpuls die zugehörige Strahlrichtung (beam vector) berechnet werden kann. Diese bildet zusammen mit dem Wasseroberflächenmodell (konkret: horizontale Fläche auf Höhe 260.10) die Grundlage für die Refraktionskorrektur. Einige Kenngrößen der Datenerfassung\n",
    "\n",
    "- Flughöhe: 50 m über Grund\n",
    "- Scanpattern: elliptisch (Palmer Scanner, $\\pm14^{\\circ}$ vorwärts/rückwärts, $\\pm20^{\\circ}$ links/rechts)\n",
    "- Pulswiederholrate: 200 kHz\n",
    "- Strahlöffnungswinkel: 2 mrad\n",
    "- Footprintdurchesser am Boden: 10 cm\n",
    "\n",
    "![](pcl-laserbathy.png)\n",
    "\n",
    "Berechnen Sie ein **Wasserlauf-Geländemodell (DGM-W)** und ein **Wassertiefenmodell** und visualisieren Sie die Modelle gemäß den folgenden Angaben:\n",
    "\n",
    "- Bestimmen Sie für jeden Punkt der 3D Punktwolke die Laserstrahlrichtung (beam vector) durch gemeinsamen  [Import](https://opals.geo.tuwien.ac.at/html/stable/ModuleImport.html) von Punktwolke und Trajektorie. Speichern Sie die um die Strahlrichtung erweiterte Punktwolke in der Datei *laserbathy.odm*.\n",
    "- Führen Sie die Laufzeit- und Refraktionskorrektur gemäß dem  [Snellius](https://opals.geo.tuwien.ac.at/html/stable/ModuleSnellius.html)'schen Brechnungsgesetz durch. Verwenden Sie für die Korrektur einen Brechungsindex von $n_w=1.35$. Speichern Sie die brechungskorrigierte Punktwolke in der Datei *laserbathy_refCorr.odm*. Anmerkung: Da das Modul [Snellius](https://opals.geo.tuwien.ac.at/html/stable/ModuleSnellius.html) die Klassifizierung der Unterwasserpunkte verändert, stellen Sie danach die ursprüngliche Klassifizierung aus dem Feld *UserData* wieder her. Verwenden Sie dazu das Modul [AddInfo](https://opals.geo.tuwien.ac.at/html/stable/ModuleAddInfo.html)\n",
    "- Berechnen Sie aus der refraktionskorrigierten Punktwolke ein DGM-W mit dem Modul [Grid](https://opals.geo.tuwien.ac.at/html/stable/ModuleGrid.html) und speichern Sie dieses als *laserbathy_dgmw.tif*\n",
    "  - Verwenden Sie dazu die Bodenpunkte \n",
    "  - Interpolationsmethode: moving planes\n",
    "  - Gitterweite: 10cm\n",
    "  - Nachbarnanzahl: 16\n",
    "  - maximaler Suchradius: 2m\n",
    "  - quadrantenweise Nachbarnsuche\n",
    "- Visualisieren Sie das DGM-W mittels Schummerung und Z-Coding und speichern Sie diese unter *laserbathy_dgmw_shd.tif* und *laserbathy_dgmw_zco.tif*. Verwenden Sie dazu geeignete Parameter ihrer Wahl.\n",
    "- Berechnen Sie aus dem DGM-W und der Wasserspiegelhöhe mit dem Modul [Algebra](https://opals.geo.tuwien.ac.at/html/stable/ModuleAlgebra.html) ein Wassertiefenmodell und speichern Sie dieses als *laserbathy_wtiefe.tif* (Wassertiefe positiv!).\n",
    "- Visualisieren Sie das Wassertiefenmodell als farbkodierte Rasterkarte und in Form von Höhenlinien.\n",
    "  - Farbkodierte Wassertiefen-Rasterkarte:\n",
    "    - Äquidistanz: 10cm\n",
    "    - Palette: colorBrewer_SpectralPal.xml\n",
    "    - Dateiname: *laserbathy_wtiefe_zco.tif*\n",
    "  - Höhenlinien:\n",
    "    - Äquidistanz: 10cm\n",
    "    - Geeignete Parameter für minimale Fläche und Länge\n",
    "    - Dateiname: *laserbathy_wtiefe_iso.shp*"
   ]
  },
  {
   "cell_type": "code",
   "execution_count": 1,
   "id": "d7c897c0-021e-4784-9c6f-020400fc4caf",
   "metadata": {
    "revert": "# Die folgende Zeile bei Bedarf auskommentieren und ausführen\n# pip install rasterio"
   },
   "outputs": [
    {
     "name": "stdout",
     "output_type": "stream",
     "text": [
      "Requirement already satisfied: rasterio in /opt/conda/lib/python3.9/site-packages (1.3.4)\n",
      "Requirement already satisfied: affine in /opt/conda/lib/python3.9/site-packages (from rasterio) (2.3.1)\n",
      "Requirement already satisfied: setuptools in /opt/conda/lib/python3.9/site-packages (from rasterio) (65.6.3)\n",
      "Requirement already satisfied: attrs in /opt/conda/lib/python3.9/site-packages (from rasterio) (22.2.0)\n",
      "Requirement already satisfied: certifi in /opt/conda/lib/python3.9/site-packages (from rasterio) (2022.12.7)\n",
      "Requirement already satisfied: numpy>=1.18 in /opt/conda/lib/python3.9/site-packages (from rasterio) (1.24.0)\n",
      "Requirement already satisfied: click-plugins in /opt/conda/lib/python3.9/site-packages (from rasterio) (1.1.1)\n",
      "Requirement already satisfied: cligj>=0.5 in /opt/conda/lib/python3.9/site-packages (from rasterio) (0.7.2)\n",
      "Requirement already satisfied: snuggs>=1.4.1 in /opt/conda/lib/python3.9/site-packages (from rasterio) (1.4.7)\n",
      "Requirement already satisfied: click>=4.0 in /opt/conda/lib/python3.9/site-packages (from rasterio) (8.1.3)\n",
      "Requirement already satisfied: pyparsing>=2.1.6 in /opt/conda/lib/python3.9/site-packages (from snuggs>=1.4.1->rasterio) (3.0.9)\n",
      "Note: you may need to restart the kernel to use updated packages.\n"
     ]
    }
   ],
   "source": [
    "pip install rasterio"
   ]
  },
  {
   "cell_type": "code",
   "execution_count": 2,
   "id": "da9b8e9c",
   "metadata": {
    "deletable": false,
    "editable": false,
    "nbgrader": {
     "cell_type": "code",
     "checksum": "b6f946f5c1303b9e5886a2c73d2e0baa",
     "grade": false,
     "grade_id": "p3_1a_imports",
     "locked": true,
     "schema_version": 3,
     "solution": false,
     "task": false
    }
   },
   "outputs": [],
   "source": [
    "###################################################################\n",
    "# Import Statements\n",
    "###################################################################\n",
    "import rasterio\n",
    "import shapely\n",
    "import fiona\n",
    "import os\n",
    "\n",
    "###################################################################\n",
    "# Pfad zum Datenverzeichnis\n",
    "###################################################################\n",
    "datadir = os.path.join( os.getenv('HOME'), 'shared', 'Daten', 'Protokoll_3')"
   ]
  },
  {
   "cell_type": "code",
   "execution_count": 3,
   "id": "27db704d-96d8-4a1c-82ab-ecf2fdd1cd50",
   "metadata": {
    "deletable": false,
    "editable": false,
    "nbgrader": {
     "cell_type": "code",
     "checksum": "18b005eb401105022402eda212b5ec8d",
     "grade": false,
     "grade_id": "cell-90dd5a8423bd1257",
     "locked": true,
     "schema_version": 3,
     "solution": false,
     "task": false
    },
    "tags": []
   },
   "outputs": [],
   "source": [
    "###################################################################\n",
    "# Sicherstellung der Nicht-Existenz der Ergbnisdateien\n",
    "###################################################################\n",
    "!rm -f *.odm\n",
    "!rm -f *.svg\n",
    "!rm -f *.log\n",
    "!rm -f laserbathy_wtiefe*\n",
    "!rm -f laserbathy_dgmw*\n",
    "!rm -f opalsLog.xml"
   ]
  },
  {
   "cell_type": "code",
   "execution_count": 4,
   "id": "2da64654",
   "metadata": {
    "deletable": false,
    "nbgrader": {
     "cell_type": "code",
     "checksum": "d801a152f773c9d104bf305b466f137a",
     "grade": false,
     "grade_id": "p3_1a_code",
     "locked": false,
     "schema_version": 3,
     "solution": true,
     "task": false
    },
    "revert": "# YOUR CODE HERE\nraise NotImplementedError()"
   },
   "outputs": [
    {
     "data": {
      "text/plain": [
       "[Parameter(path=inFile, values=laserbathy_wdepth.tif, type=Path, source=interFace),\n",
       " Parameter(path=outFile, values=laserbathy_wtiefe_iso.shp, type=Path, source=interFace),\n",
       " Parameter(path=oFormat, values=shape, type=String, source=estimated),\n",
       " Parameter(path=band, values=0, type=String, source=internalDefault),\n",
       " Parameter(path=interval, values=0.10000000000000001, type=double, source=interFace),\n",
       " Parameter(path=levels, values=, type=Vector<double>, source=unknown),\n",
       " Parameter(path=zRange, values=, type=Array<double,2>, source=unknown),\n",
       " Parameter(path=thinOut, values=0.01, type=double, source=internalDefault),\n",
       " Parameter(path=closeMin, values=3, type=double, source=interFace),\n",
       " Parameter(path=minLength, values=2, type=double, source=interFace),\n",
       " Parameter(path=densification, values=1, type=bool, source=internalDefault)]"
      ]
     },
     "execution_count": 4,
     "metadata": {},
     "output_type": "execute_result"
    }
   ],
   "source": [
    "# YOUR CODE HERE\n",
    "\n",
    "#Modulimport\n",
    "import opals\n",
    "from opals import Import, Snellius, AddInfo, Grid, Shade, ZColor, Algebra, Isolines, Translate\n",
    "from os.path import join\n",
    "\n",
    "\n",
    "#Dateinamen\n",
    "dataset = 'laserbathy'\n",
    "lazF = join(datadir, dataset + '.laz')\n",
    "odmF = dataset + '.odm'\n",
    "odmF_corr = dataset + '_refCorr.odm'\n",
    "\n",
    "trjF = join(datadir, 'trajectory.txt')\n",
    "trfF = join(datadir, 'trajectory.xml')\n",
    "\n",
    "dgmF = dataset + '_dgmw.tif'\n",
    "wdeF = dataset + '_wdepth.tif'\n",
    "wlev = 260.10\n",
    "\n",
    "\n",
    "#File Importieren\n",
    "Import.Import(inFile = lazF, outFile = odmF, trjFile =trjF, tFormat  = trfF, storeBeamInfo = [opals.Types.BeamInfo.BeamVector]).run()\n",
    "\n",
    "#Refraktionskorrektur\n",
    "refI = 1.35\n",
    "Snellius.Snellius(inFile=odmF,  outFile=odmF_corr, refModel=str(wlev), refractiveIndex=refI).run()\n",
    "\n",
    "# Klassifizierungswiederherstellung\n",
    "AddInfo.AddInfo(inFile = odmF_corr, attribute = 'Classification=UserData')\n",
    "\n",
    "#DGM-W\n",
    "Grid.Grid(inFile = odmF_corr, outFile = dgmF, interpolation = opals.Types.GridInterpolator.movingAverage, gridSize = 0.1, neighbours = 16, searchRadius = 2, selMode = opals.Types.SelectionMode.quadrant).run() #filter = 'class[Ground]'\n",
    "\n",
    "#Visualisierung DGMW\n",
    "palF = 'standardPal.xml'\n",
    "scaleP = '256 270'\n",
    "Shade.Shade(inFile = dgmF, outFile = 'laserbathy_dgmw_shd.tif', sunPosition=[350,50]).run()\n",
    "ZColor.ZColor(inFile = dgmF, outFile = 'laserbathy_dgmw_zco.tif', interval = 0.5, palFile = palF, scalePal=scaleP).run()\n",
    "\n",
    "#Wassertiefenmodell\n",
    "Algebra.Algebra(inFile = dgmF, formula = 'r[0] < 260.10 ? 260.10 - r[0] : invalid', outFile = wdeF).run()\n",
    "\n",
    "#Visualisierung Wassertiefenmodell\n",
    "palF = 'colorBrewer_SpectralPal.xml'\n",
    "scaleP = '0 1.5'\n",
    "ZColor.ZColor(inFile=wdeF, outFile='laserbathy_wtiefe_zco.tif', palFile=palF, scalePal=scaleP, interval=0.1).run()\n",
    "\n",
    "Isolines.Isolines(inFile=wdeF, outFile='laserbathy_wtiefe_iso.shp', interval=0.1, minLength = 2, closeMin = 3).run()"
   ]
  },
  {
   "cell_type": "code",
   "execution_count": 5,
   "id": "b6529959",
   "metadata": {
    "deletable": false,
    "editable": false,
    "nbgrader": {
     "cell_type": "code",
     "checksum": "5f453cf66b152562a0bdd1c76554ebcb",
     "grade": true,
     "grade_id": "p3_1_test0",
     "locked": true,
     "points": 1,
     "schema_version": 3,
     "solution": false,
     "task": false
    }
   },
   "outputs": [],
   "source": [
    "# Sichtbare Überprüfungen\n",
    "assert os.path.exists('laserbathy.odm')\n",
    "#\n",
    "assert os.path.exists('laserbathy_refCorr.odm')\n",
    "#\n",
    "assert 'Import' in globals()\n",
    "assert 'Snellius' in globals()\n",
    "assert 'AddInfo' in globals()\n",
    "assert 'Grid' in globals()\n",
    "assert 'Shade' in globals()\n",
    "assert 'ZColor' in globals()\n",
    "assert 'Algebra' in globals()\n",
    "assert 'Isolines' in globals()\n",
    "assert 'Translate' in globals()"
   ]
  },
  {
   "cell_type": "code",
   "execution_count": 6,
   "id": "2c841ad3",
   "metadata": {
    "deletable": false,
    "editable": false,
    "nbgrader": {
     "cell_type": "code",
     "checksum": "8e6d71c11e9b8172577c6ecf7d403990",
     "grade": true,
     "grade_id": "p3_1_test1",
     "locked": true,
     "points": 1,
     "schema_version": 3,
     "solution": false,
     "task": false
    }
   },
   "outputs": [],
   "source": [
    "# Verborgene Überprüfungen 1 (DGM-W, photobathy_wtiefe_zco.tif)"
   ]
  },
  {
   "cell_type": "code",
   "execution_count": 7,
   "id": "0241b44b",
   "metadata": {
    "deletable": false,
    "editable": false,
    "nbgrader": {
     "cell_type": "code",
     "checksum": "d8de019768785b61966b1c18d6bd8ac9",
     "grade": true,
     "grade_id": "p3_1_test2",
     "locked": true,
     "points": 1,
     "schema_version": 3,
     "solution": false,
     "task": false
    }
   },
   "outputs": [],
   "source": [
    "# Verborgene Überprüfungen 2 (laserbathy_dgmw_zco.tif)"
   ]
  },
  {
   "cell_type": "code",
   "execution_count": 8,
   "id": "3e881e67",
   "metadata": {
    "deletable": false,
    "editable": false,
    "nbgrader": {
     "cell_type": "code",
     "checksum": "7e2cad21d17ec23464a4b66a4981f00f",
     "grade": true,
     "grade_id": "p3_1_test3",
     "locked": true,
     "points": 1,
     "schema_version": 3,
     "solution": false,
     "task": false
    }
   },
   "outputs": [],
   "source": [
    "# Verborgene Überprüfungen 3 (laserbathy_dgmw_shd.tif)"
   ]
  },
  {
   "cell_type": "code",
   "execution_count": 9,
   "id": "21c17d76",
   "metadata": {
    "deletable": false,
    "editable": false,
    "nbgrader": {
     "cell_type": "code",
     "checksum": "885dfce732b6d6243812236741e1add6",
     "grade": true,
     "grade_id": "p3_1_test4",
     "locked": true,
     "points": 1,
     "schema_version": 3,
     "solution": false,
     "task": false
    }
   },
   "outputs": [],
   "source": [
    "# Verborgene Überprüfungen 4 (laserbathy_wtiefe.tif)"
   ]
  },
  {
   "cell_type": "code",
   "execution_count": 10,
   "id": "a9fa0cf0",
   "metadata": {
    "deletable": false,
    "editable": false,
    "nbgrader": {
     "cell_type": "code",
     "checksum": "6f252fa5096f63801c58363eaaaafd7d",
     "grade": true,
     "grade_id": "p3_1_test5",
     "locked": true,
     "points": 1,
     "schema_version": 3,
     "solution": false,
     "task": false
    }
   },
   "outputs": [],
   "source": [
    "# Verborgene Überprüfungen 5 (laserbathy_wtiefe.tif.shp, laserbathy_wtiefe_zco.tif)"
   ]
  },
  {
   "cell_type": "code",
   "execution_count": 11,
   "id": "02af20e1",
   "metadata": {
    "deletable": false,
    "editable": false,
    "nbgrader": {
     "cell_type": "code",
     "checksum": "b0d45a1846025276e9f77764b752dd70",
     "grade": true,
     "grade_id": "p3_1_test6",
     "locked": true,
     "points": 1,
     "schema_version": 3,
     "solution": false,
     "task": false
    }
   },
   "outputs": [],
   "source": [
    "# Verborgene Überprüfungen 6 (Refraktionskorrektur Datei laserbathy.odm, Min/Max)"
   ]
  },
  {
   "cell_type": "code",
   "execution_count": 12,
   "id": "c3c74067",
   "metadata": {
    "deletable": false,
    "editable": false,
    "nbgrader": {
     "cell_type": "code",
     "checksum": "a79a12b152504b70366e6be1289aa5e2",
     "grade": true,
     "grade_id": "p3_1_test7",
     "locked": true,
     "points": 1,
     "schema_version": 3,
     "solution": false,
     "task": false
    }
   },
   "outputs": [],
   "source": [
    "# Verborgene Überprüfungen 7 (Refraktionskorrektur Datei laserbathy.odm, Mean/Median/StdDev)"
   ]
  },
  {
   "cell_type": "markdown",
   "id": "9ff99e1f-3da0-4636-9777-6af031f6bcee",
   "metadata": {
    "deletable": false,
    "editable": false,
    "nbgrader": {
     "cell_type": "markdown",
     "checksum": "847a983eba61c2c0ecc0a10795d5bc95",
     "grade": false,
     "grade_id": "cell-adfa65478d5b53b8",
     "locked": true,
     "schema_version": 3,
     "solution": false,
     "task": false
    },
    "tags": []
   },
   "source": [
    "### Aufgabe 1b\n",
    "\n",
    "Beschreiben Sie in ca 100-200 Worten kurz das Grundkonzept der Laserbathymetrie mit Fokus auf Refraktionskorrektur. Verwenden Sie dazu das gelernte Wissen aus den Vorlesungseinheiten und die entsprechenden Unterlagen aus dem Skriptum zur Lehrveranstaltung. Gehen Sie dabei auf die wesentlichen Punkte Wasseroberfläche, Strahlablenkung, Ausbreitungsgeschwindigkeit in Luft und Wasser sowie auf das physikalische Grundgesetz ein. "
   ]
  },
  {
   "cell_type": "markdown",
   "id": "6c86c861-e542-4914-bd9e-578716a1085e",
   "metadata": {
    "deletable": false,
    "nbgrader": {
     "cell_type": "markdown",
     "checksum": "014e67c3af95e6e782c8c7982387154f",
     "grade": true,
     "grade_id": "cell-e442abb1573721d0",
     "locked": false,
     "points": 3,
     "schema_version": 3,
     "solution": true,
     "task": false
    },
    "revert": "YOUR ANSWER HERE",
    "tags": []
   },
   "source": [
    "Die Laserbathymetrie ist eine Methode, um die topografischen Eigenschaften von Gewässern zu untersuchen. Sie ist eine aktive Methode und funktioniert mittels Laufzeitmessung, es wird also ein Laserstrahl ausgesandt und die Zeit gemessen bis zu seiner Rückkehr, um daraus über die Lichtgeschwindigkeit die Höhe des untersuchten Punktes zu bestimmen. Die Vorteile der Laserbathymetrie sind die große Eindringtiefe im Vergleich zu passiven Methoden sowie die Höhengenauigkeit. Meist wird Licht mit grüner Wellenlänge verwendet, da dieses vom Wasser nicht so stark absorbiert wird wie andere Wellenlängen.\n",
    "\n",
    "Das Prinzip der Laufzeitmessung birgt jedoch auch Probleme. So ist die Lichtgeschwindigkeit, mit der sich der Laserstrahl ausbreitet, im Wasser um ca. ein Drittel geringer als in der Luft. Das führt unter anderem dazu, dass das Licht an der Wasseroberfläche gebrochen wird. Dieser Umstand macht die Berechnung der geometrischen Ausbreitung des Laserstrahls, die für die korrekte Ermittlung der Geländehöhe notwendig ist, schwierig. Es muss der Brechungsvorgang in die Formeln miteinbezogen werden, um keine falschen (meist zu flachen) Wassertiefen zu erhalten. Das funktioniert über das Snellius’sche Brechungsgesetz, das das Verhältnis vom Sinus des Einfallswinkels und dem Sinus des Aufallswinkels dem umgekehrten Verhältnis der Brechungsindizes von Luft und Wasser gleichsetzt."
   ]
  },
  {
   "cell_type": "code",
   "execution_count": null,
   "id": "a4054092-9fc7-4087-8121-5de4698719be",
   "metadata": {},
   "outputs": [],
   "source": []
  }
 ],
 "metadata": {
  "kernelspec": {
   "display_name": "Python 3 (ipykernel)",
   "language": "python",
   "name": "python3"
  },
  "language_info": {
   "codemirror_mode": {
    "name": "ipython",
    "version": 3
   },
   "file_extension": ".py",
   "mimetype": "text/x-python",
   "name": "python",
   "nbconvert_exporter": "python",
   "pygments_lexer": "ipython3",
   "version": "3.9.15"
  }
 },
 "nbformat": 4,
 "nbformat_minor": 5
}
